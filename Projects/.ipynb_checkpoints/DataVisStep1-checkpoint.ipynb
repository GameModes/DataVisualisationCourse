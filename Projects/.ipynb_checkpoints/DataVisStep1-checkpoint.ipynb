{
 "cells": [
  {
   "cell_type": "code",
   "execution_count": null,
   "id": "50dc9a8f-2347-4418-b0e8-4eac7ecf2994",
   "metadata": {},
   "outputs": [],
   "source": [
    "import pydot\n",
    "import turtle\n",
    "import random\n",
    "import math"
   ]
  },
  {
   "cell_type": "markdown",
   "id": "7e75be7d-1e7b-465d-837f-421ccff9547e",
   "metadata": {},
   "source": [
    "## Assignment 1"
   ]
  },
  {
   "cell_type": "markdown",
   "id": "8cafd787-5e44-4525-9266-e06334cc32ea",
   "metadata": {},
   "source": [
    "### Parsing dot file"
   ]
  },
  {
   "cell_type": "code",
   "execution_count": null,
   "id": "9083f634-6cb6-4177-bbb1-62ada7b74573",
   "metadata": {},
   "outputs": [],
   "source": [
    "def parse_dot_file(file_path):\n",
    "    graph = pydot.graph_from_dot_file(file_path)[0]  # Get the first graph from the list\n",
    "    nodes = []\n",
    "    edges = []\n",
    "    for node in graph.get_nodes():\n",
    "        nodes.append(node.get_name())\n",
    "    for edge in graph.get_edges():\n",
    "        source = edge.get_source()\n",
    "        target = edge.get_destination()\n",
    "        attributes = edge.get_attributes()\n",
    "        edges.append((source, target, attributes))\n",
    "    return nodes, edges\n",
    "\n",
    "file_path = \"D:/OneDrive - Universiteit Utrecht/Universiteit/3DataVisualisation/DataSet/LesMiserables.dot\"\n",
    "nodes, edges = parse_dot_file(file_path)\n",
    "\n",
    "print(\"Nodes:\", nodes)\n",
    "print(\"Edges:\")\n",
    "for edge in edges:\n",
    "    print(edge)\n"
   ]
  },
  {
   "cell_type": "markdown",
   "id": "5a02ea63-ba40-4532-9b9a-f5aca658e46d",
   "metadata": {},
   "source": [
    "## Analyzing the edges"
   ]
  },
  {
   "cell_type": "code",
   "execution_count": null,
   "id": "43046fc9-24cd-4045-bc74-2c726905c9bb",
   "metadata": {
    "scrolled": true
   },
   "outputs": [],
   "source": [
    "'''Adjacency matrix'''\n",
    "num_nodes = len(nodes)\n",
    "adj_matrix = [[0] * num_nodes for _ in range(num_nodes)]\n",
    "\n",
    "for i, edge in enumerate(edges):\n",
    "    source = edge[0]\n",
    "    target = edge[1]\n",
    "    weight = edge[2]\n",
    "    adj_matrix[nodes.index(source)][nodes.index(target)] = 1\n",
    "\n",
    "print(\"Adjacency Matrix:\")\n",
    "print(nodes)\n",
    "\n",
    "'''writing the nodes and the edges on a txt file'''\n",
    "file = open(\"step1Matrix.txt\", \"w\")\n",
    "for index, row in enumerate(adj_matrix):\n",
    "    file.write(str(row))\n",
    "    print(index, row)\n"
   ]
  },
  {
   "cell_type": "code",
   "execution_count": null,
   "id": "39a8825d-5450-4109-9c24-20880c4f5f81",
   "metadata": {},
   "outputs": [],
   "source": [
    "# Read adjacency matrix from the text file\n",
    "def read_adjacency_matrix(file_path):\n",
    "    with open(file_path, 'r') as file:\n",
    "        adjacency_matrix = file.read()\n",
    "    print(adjacency_matrix)\n",
    "    return adjacency_matrix\n",
    "    \n",
    "adjacency_matrix = read_adjacency_matrix(\"step1Matrix.txt\")"
   ]
  },
  {
   "cell_type": "markdown",
   "id": "d06978d6-62d2-45c4-8680-a6dbc57a215a",
   "metadata": {},
   "source": [
    "## Turtle Graph Drawing"
   ]
  },
  {
   "cell_type": "code",
   "execution_count": null,
   "id": "ca498001-ba22-40fb-a704-d00b2c11e695",
   "metadata": {
    "code_folding": [
     23,
     39,
     55,
     69
    ],
    "scrolled": true
   },
   "outputs": [],
   "source": [
    "# Function to draw a node at given position\n",
    "def draw_node(x, y, label, size=20, color=\"black\"):\n",
    "    turtle.penup()\n",
    "    turtle.goto(x, y -size)\n",
    "    turtle.pendown()\n",
    "    turtle.fillcolor(color)\n",
    "    turtle.begin_fill()\n",
    "    turtle.circle(size)\n",
    "    turtle.end_fill()\n",
    "\n",
    "    #labelling\n",
    "    turtle.goto(x,y)\n",
    "    turtle.write(label[0:4])\n",
    "\n",
    "# Function to draw an colored edge between two nodes given the start and the end and the source's color\n",
    "def draw_edge(start, end, color=\"black\"):\n",
    "    turtle.penup()\n",
    "    turtle.goto(start)\n",
    "    turtle.pendown()\n",
    "    turtle.color(color)\n",
    "    turtle.goto(end)\n",
    "    \n",
    "# Function to arrange nodes in a circle\n",
    "def arrange_in_circle(nodes):\n",
    "    num_nodes = len(nodes)\n",
    "    radius = 300\n",
    "    center_x, center_y = 0, 0\n",
    "    angle_step = 360 / num_nodes\n",
    "\n",
    "    node_positions = {}\n",
    "    for i, node in enumerate(nodes):\n",
    "        angle = math.radians(i * angle_step)\n",
    "        x = center_x + radius * math.cos(angle)\n",
    "        y = center_y + radius * math.sin(angle)\n",
    "        node_positions[node] = (x, y)\n",
    "\n",
    "    return node_positions\n",
    "\n",
    "# Function to arrange nodes in a square with slight offsets\n",
    "def arrange_in_semi_square(nodes):\n",
    "    num_nodes = len(nodes)\n",
    "    side_length = int(math.ceil(math.sqrt(num_nodes)))  # Calculate the side length of the square\n",
    "    spacing = 60  # Spacing between nodes\n",
    "    node_positions = {}\n",
    "\n",
    "    for i, node in enumerate(nodes):\n",
    "        row = i // side_length\n",
    "        col = i % side_length\n",
    "        x = col * spacing   # Add random offset\n",
    "        y = -row * spacing + random.randint(-15, 15) # Add random offset\n",
    "        node_positions[node] = (x, y)\n",
    "\n",
    "    return node_positions\n",
    "\n",
    "# Function to arrange nodes in a square\n",
    "def arrange_in_square(nodes):\n",
    "    num_nodes = len(nodes)\n",
    "    side_length = int(math.ceil(math.sqrt(num_nodes)))  # Calculate the side length of the square\n",
    "    spacing = 50 \n",
    "    node_positions = {}\n",
    "\n",
    "    for i, node in enumerate(nodes):\n",
    "        row = i // side_length\n",
    "        col = i % side_length\n",
    "        x = col * spacing   # Add random offset\n",
    "        y = -row * spacing # Add random offset\n",
    "        node_positions[node] = (x, y)\n",
    "    return node_positions\n",
    "\n",
    "def arrange_in_tree(nodes, edges):\n",
    "    print(edges)\n",
    "    print(nodes)\n",
    "    print('next')\n",
    "    print(edges[0])\n",
    "    print('another next')\n",
    "    \n",
    "    counter = 0\n",
    "    num = edges[0][0]\n",
    "     \n",
    "    for i in edges:\n",
    "        curr_frequency = edges.count(i[0])\n",
    "        if(curr_frequency> counter):\n",
    "            counter = curr_frequency\n",
    "            num = i\n",
    "    print(num)\n",
    "    \n",
    "def draw_node_link_diagram(nodes, edges, structure='circle'):\n",
    "    # Initialize turtle\n",
    "    turtle.setup(width=800, height=600)\n",
    "    \n",
    "    # Define colors for nodes (source: cs111.wellesley.edu/labs/lab02/colors)\n",
    "    colors = [\"Red\", \"Blue\", \"green\", \"Orange\", \"purple\", \"Pink\", \"Brown\", \"Cyan\", \"Magenta\", \"NavajoWhite4\", \"VioletRed4\", \"LimeGreen\", \"MediumBlue\"]\n",
    "    if structure == 'circle':\n",
    "        node_positions = arrange_in_circle(nodes)\n",
    "            \n",
    "    elif structure == 'square':\n",
    "        node_positions = arrange_in_square(nodes)\n",
    "\n",
    "    elif structure == 'semi-square':\n",
    "        node_positions = arrange_in_semi_square(nodes)\n",
    "\n",
    "    elif structure == 'tree':\n",
    "        node_positions = arrange_in_tree(nodes, edges)\n",
    "        \n",
    "    avg_x = sum(pos[0] for pos in node_positions.values()) / len(node_positions)\n",
    "    avg_y = sum(pos[1] for pos in node_positions.values()) / len(node_positions)\n",
    "\n",
    "    # Set up the turtle viewport centering on the average position of nodes + the half of the width/height\n",
    "    turtle.setworldcoordinates(avg_x - 400, avg_y - 300, avg_x + 400, avg_y + 300)\n",
    "    turtle.speed(0)  #fastest drawing speed\n",
    "    turtle.hideturtle()\n",
    "    \n",
    "    # Draw nodes\n",
    "    for node, position in node_positions.items():\n",
    "        draw_node(position[0], position[1], node, color=colors[int(nodes.index(node)) % len(colors)])\n",
    "\n",
    "    # Draw edges\n",
    "    turtle.speed(0)  # Set the fastest drawing speed (bugfix)\n",
    "    for edge in edges:\n",
    "        source, target, _ = edge\n",
    "        start = node_positions[source]\n",
    "        end = node_positions[target]\n",
    "        edge_color = colors[int(nodes.index(source)) % len(colors)]\n",
    "        draw_edge(start, end, color=edge_color)\n",
    "\n",
    "    turtle.hideturtle() \n",
    "    turtle.done()\n",
    "\n",
    "draw_node_link_diagram(nodes, edges, 'semi-square')\n"
   ]
  },
  {
   "cell_type": "markdown",
   "id": "a4758caa-8843-4c97-bd41-c4ad56729c87",
   "metadata": {},
   "source": [
    "## Discussion"
   ]
  },
  {
   "cell_type": "markdown",
   "id": "d20ada19-6667-43e0-a8b9-acac9d0186ec",
   "metadata": {},
   "source": [
    "The Graph drawing shows a complexity of Linear time, meaning O(log n), because it shows no nested loops nor have logarithm time complexity in each operation. Because of the use of the Turtle library, more Nodes can easily be added and because of the complex libary, there are a lot of extra handy functions to improve the layout of the graph. But because the turtle manually writes to the screen, meaning it is a color written paper meaning each node nor edges are not interactive at all. "
   ]
  },
  {
   "cell_type": "markdown",
   "id": "7ea39526-055c-48fd-9e48-ffb51e8ea570",
   "metadata": {},
   "source": [
    "As a bonus algorithm, both semi-squared and circle are implemented to show that the structure really matters how the layout is build. The semi-squared layout shows what happens when each node random moves from the vertical line and improves the layout, because you can now identify edges that are in the same vertical line. The circle layout"
   ]
  },
  {
   "cell_type": "markdown",
   "id": "a34e19ff-9b10-46ed-981e-a3a2ad083ec6",
   "metadata": {},
   "source": []
  },
  {
   "cell_type": "code",
   "execution_count": null,
   "id": "376060db-a244-4a3f-831d-4ed87d159dc4",
   "metadata": {},
   "outputs": [],
   "source": []
  },
  {
   "cell_type": "code",
   "execution_count": null,
   "id": "6e639e08-c71b-4c93-abc5-b8fc43097938",
   "metadata": {},
   "outputs": [],
   "source": []
  }
 ],
 "metadata": {
  "kernelspec": {
   "display_name": "Python 3 (ipykernel)",
   "language": "python",
   "name": "python3"
  },
  "language_info": {
   "codemirror_mode": {
    "name": "ipython",
    "version": 3
   },
   "file_extension": ".py",
   "mimetype": "text/x-python",
   "name": "python",
   "nbconvert_exporter": "python",
   "pygments_lexer": "ipython3",
   "version": "3.11.7"
  }
 },
 "nbformat": 4,
 "nbformat_minor": 5
}
