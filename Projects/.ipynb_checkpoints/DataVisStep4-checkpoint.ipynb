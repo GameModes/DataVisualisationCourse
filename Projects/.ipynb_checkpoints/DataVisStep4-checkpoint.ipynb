{
 "cells": [
  {
   "cell_type": "code",
   "execution_count": 427,
   "id": "50dc9a8f-2347-4418-b0e8-4eac7ecf2994",
   "metadata": {},
   "outputs": [],
   "source": [
    "import pydot\n",
    "import random\n",
    "import math\n",
    "import matplotlib.pyplot as plt\n",
    "import networkx as nx\n",
    "import math\n",
    "from statistics import mean \n",
    "from collections import Counter"
   ]
  },
  {
   "cell_type": "markdown",
   "id": "7e75be7d-1e7b-465d-837f-421ccff9547e",
   "metadata": {},
   "source": [
    "## Retrieving data"
   ]
  },
  {
   "cell_type": "markdown",
   "id": "8cafd787-5e44-4525-9266-e06334cc32ea",
   "metadata": {
    "heading_collapsed": true
   },
   "source": [
    "### Parsing dot file"
   ]
  },
  {
   "cell_type": "code",
   "execution_count": 2,
   "id": "9083f634-6cb6-4177-bbb1-62ada7b74573",
   "metadata": {
    "hidden": true
   },
   "outputs": [],
   "source": [
    "def parse_dot_file(file_path):\n",
    "    graph = pydot.graph_from_dot_file(file_path)[0]  # Get the first graph from the list\n",
    "    nodes = []\n",
    "    edges = []\n",
    "    for node in graph.get_nodes():\n",
    "        nodes.append(node.get_name())\n",
    "    for edge in graph.get_edges():\n",
    "        source = edge.get_source()\n",
    "        target = edge.get_destination()\n",
    "        attributes = edge.get_attributes()\n",
    "        edges.append((source, target, attributes))\n",
    "    return nodes, edges\n",
    "\n",
    "file_path = \"D:/OneDrive - Universiteit Utrecht/Universiteit/3DataVisualisation/DataSet/noname.dot\"\n",
    "#LesMiserables, LeagueNetwork, polblogs, JazzNetwork, noname\n",
    "nodes, edges = parse_dot_file(file_path)\n",
    "\n",
    "# print(\"Nodes:\", nodes)\n",
    "# print(\"Edges:\")\n",
    "# for edge in edges:\n",
    "#     print(edge)\n"
   ]
  },
  {
   "cell_type": "markdown",
   "id": "5a02ea63-ba40-4532-9b9a-f5aca658e46d",
   "metadata": {
    "heading_collapsed": true
   },
   "source": [
    "## Analyzing the edges"
   ]
  },
  {
   "cell_type": "code",
   "execution_count": 3,
   "id": "43046fc9-24cd-4045-bc74-2c726905c9bb",
   "metadata": {
    "code_folding": [
     4,
     19
    ],
    "hidden": true,
    "scrolled": true
   },
   "outputs": [
    {
     "name": "stdout",
     "output_type": "stream",
     "text": [
      "Adjacency Matrix:\n",
      "['5', '13', '3', '6', '14', '15', '7', '11', '8', '9', '16', '10', '4', '2', '18', '17', '19', '20', '12', '21', '22', '1', '23', '24']\n",
      "[[0, 0, 0, 0, 0, 0, 0, 0, 0, 0, 0, 0, 0, 0, 0, 0, 0, 0, 0, 0, 0, 0, 0, 0], [0, 0, 0, 0, 0, 0, 0, 0, 0, 0, 0, 0, 0, 0, 0, 0, 0, 0, 0, 0, 0, 0, 0, 0], [0, 0, 0, 0, 0, 0, 0, 0, 0, 0, 0, 0, 0, 0, 0, 0, 0, 0, 0, 0, 0, 0, 0, 0], [0, 0, 0, 0, 0, 0, 0, 0, 0, 0, 0, 0, 0, 0, 0, 0, 0, 0, 0, 0, 0, 0, 0, 0], [0, 0, 0, 0, 0, 0, 0, 0, 0, 0, 0, 0, 0, 0, 0, 0, 0, 0, 0, 0, 0, 0, 0, 0], [0, 0, 0, 0, 0, 0, 0, 0, 0, 0, 0, 0, 0, 0, 0, 0, 0, 0, 0, 0, 0, 0, 0, 0], [0, 0, 0, 0, 0, 0, 0, 0, 0, 0, 0, 0, 0, 0, 0, 0, 0, 0, 0, 0, 0, 0, 0, 0], [0, 0, 0, 0, 0, 0, 0, 0, 0, 0, 0, 0, 0, 0, 0, 0, 0, 0, 0, 0, 0, 0, 0, 0], [0, 0, 0, 0, 0, 0, 0, 0, 0, 0, 0, 0, 0, 0, 0, 0, 0, 0, 0, 0, 0, 0, 0, 0], [0, 0, 0, 0, 0, 0, 0, 0, 0, 0, 0, 0, 0, 0, 0, 0, 0, 0, 0, 0, 0, 0, 0, 0], [0, 0, 0, 0, 0, 0, 0, 0, 0, 0, 0, 0, 0, 0, 0, 0, 0, 0, 0, 0, 0, 0, 0, 0], [0, 0, 0, 0, 0, 0, 0, 0, 0, 0, 0, 0, 0, 0, 0, 0, 0, 0, 0, 0, 0, 0, 0, 0], [0, 0, 0, 0, 0, 0, 0, 0, 0, 0, 0, 0, 0, 0, 0, 0, 0, 0, 0, 0, 0, 0, 0, 0], [0, 0, 0, 0, 0, 0, 0, 0, 0, 0, 0, 0, 0, 0, 0, 0, 0, 0, 0, 0, 0, 0, 0, 0], [0, 0, 0, 0, 0, 0, 0, 0, 0, 0, 0, 0, 0, 0, 0, 0, 0, 0, 0, 0, 0, 0, 0, 0], [0, 0, 0, 0, 0, 0, 0, 0, 0, 0, 0, 0, 0, 0, 0, 0, 0, 0, 0, 0, 0, 0, 0, 0], [0, 0, 0, 0, 0, 0, 0, 0, 0, 0, 0, 0, 0, 0, 0, 0, 0, 0, 0, 0, 0, 0, 0, 0], [0, 0, 0, 0, 0, 0, 0, 0, 0, 0, 0, 0, 0, 0, 0, 0, 0, 0, 0, 0, 0, 0, 0, 0], [0, 0, 0, 0, 0, 0, 0, 0, 0, 0, 0, 0, 0, 0, 0, 0, 0, 0, 0, 0, 0, 0, 0, 0], [0, 0, 0, 0, 0, 0, 0, 0, 0, 0, 0, 0, 0, 0, 0, 0, 0, 0, 0, 0, 0, 0, 0, 0], [0, 0, 0, 0, 0, 0, 0, 0, 0, 0, 0, 0, 0, 0, 0, 0, 0, 0, 0, 0, 0, 0, 0, 0], [0, 0, 0, 0, 0, 0, 0, 0, 0, 0, 0, 0, 0, 0, 0, 0, 0, 0, 0, 0, 0, 0, 0, 0], [0, 0, 0, 0, 0, 0, 0, 0, 0, 0, 0, 0, 0, 0, 0, 0, 0, 0, 0, 0, 0, 0, 0, 0], [0, 0, 0, 0, 0, 0, 0, 0, 0, 0, 0, 0, 0, 0, 0, 0, 0, 0, 0, 0, 0, 0, 0, 0]]\n"
     ]
    }
   ],
   "source": [
    "'''Edges+Nodes -> Adjacency matrix'''\n",
    "num_nodes = len(nodes)\n",
    "adj_matrix = [[0] * num_nodes for _ in range(num_nodes)]\n",
    "\n",
    "for i, edge in enumerate(edges):\n",
    "    source = edge[0]\n",
    "    target = edge[1]\n",
    "    weight = edge[2]\n",
    "    try:\n",
    "        adj_matrix[nodes.index(source)][nodes.index(target)] = weight['weight']\n",
    "    except KeyError:\n",
    "        adj_matrix[nodes.index(source)][nodes.index(target)] = 0\n",
    "        \n",
    "\n",
    "print(\"Adjacency Matrix:\")\n",
    "print(nodes)\n",
    "print(adj_matrix)\n",
    "\n",
    "'''writing the nodes and the edges on a txt file'''\n",
    "with open('adjacency_matrix.txt', 'w') as file:\n",
    "    for item in adj_matrix:\n",
    "            file.write(\" \".join(map(str,item)))\n",
    "            file.write(\"\\n\")"
   ]
  },
  {
   "cell_type": "code",
   "execution_count": 4,
   "id": "39a8825d-5450-4109-9c24-20880c4f5f81",
   "metadata": {
    "hidden": true
   },
   "outputs": [
    {
     "name": "stdout",
     "output_type": "stream",
     "text": [
      "[[0, 0, 0, 0, 0, 0, 0, 0, 0, 0, 0, 0, 0, 0, 0, 0, 0, 0, 0, 0, 0, 0, 0, 0], [0, 0, 0, 0, 0, 0, 0, 0, 0, 0, 0, 0, 0, 0, 0, 0, 0, 0, 0, 0, 0, 0, 0, 0], [0, 0, 0, 0, 0, 0, 0, 0, 0, 0, 0, 0, 0, 0, 0, 0, 0, 0, 0, 0, 0, 0, 0, 0], [0, 0, 0, 0, 0, 0, 0, 0, 0, 0, 0, 0, 0, 0, 0, 0, 0, 0, 0, 0, 0, 0, 0, 0], [0, 0, 0, 0, 0, 0, 0, 0, 0, 0, 0, 0, 0, 0, 0, 0, 0, 0, 0, 0, 0, 0, 0, 0], [0, 0, 0, 0, 0, 0, 0, 0, 0, 0, 0, 0, 0, 0, 0, 0, 0, 0, 0, 0, 0, 0, 0, 0], [0, 0, 0, 0, 0, 0, 0, 0, 0, 0, 0, 0, 0, 0, 0, 0, 0, 0, 0, 0, 0, 0, 0, 0], [0, 0, 0, 0, 0, 0, 0, 0, 0, 0, 0, 0, 0, 0, 0, 0, 0, 0, 0, 0, 0, 0, 0, 0], [0, 0, 0, 0, 0, 0, 0, 0, 0, 0, 0, 0, 0, 0, 0, 0, 0, 0, 0, 0, 0, 0, 0, 0], [0, 0, 0, 0, 0, 0, 0, 0, 0, 0, 0, 0, 0, 0, 0, 0, 0, 0, 0, 0, 0, 0, 0, 0], [0, 0, 0, 0, 0, 0, 0, 0, 0, 0, 0, 0, 0, 0, 0, 0, 0, 0, 0, 0, 0, 0, 0, 0], [0, 0, 0, 0, 0, 0, 0, 0, 0, 0, 0, 0, 0, 0, 0, 0, 0, 0, 0, 0, 0, 0, 0, 0], [0, 0, 0, 0, 0, 0, 0, 0, 0, 0, 0, 0, 0, 0, 0, 0, 0, 0, 0, 0, 0, 0, 0, 0], [0, 0, 0, 0, 0, 0, 0, 0, 0, 0, 0, 0, 0, 0, 0, 0, 0, 0, 0, 0, 0, 0, 0, 0], [0, 0, 0, 0, 0, 0, 0, 0, 0, 0, 0, 0, 0, 0, 0, 0, 0, 0, 0, 0, 0, 0, 0, 0], [0, 0, 0, 0, 0, 0, 0, 0, 0, 0, 0, 0, 0, 0, 0, 0, 0, 0, 0, 0, 0, 0, 0, 0], [0, 0, 0, 0, 0, 0, 0, 0, 0, 0, 0, 0, 0, 0, 0, 0, 0, 0, 0, 0, 0, 0, 0, 0], [0, 0, 0, 0, 0, 0, 0, 0, 0, 0, 0, 0, 0, 0, 0, 0, 0, 0, 0, 0, 0, 0, 0, 0], [0, 0, 0, 0, 0, 0, 0, 0, 0, 0, 0, 0, 0, 0, 0, 0, 0, 0, 0, 0, 0, 0, 0, 0], [0, 0, 0, 0, 0, 0, 0, 0, 0, 0, 0, 0, 0, 0, 0, 0, 0, 0, 0, 0, 0, 0, 0, 0], [0, 0, 0, 0, 0, 0, 0, 0, 0, 0, 0, 0, 0, 0, 0, 0, 0, 0, 0, 0, 0, 0, 0, 0], [0, 0, 0, 0, 0, 0, 0, 0, 0, 0, 0, 0, 0, 0, 0, 0, 0, 0, 0, 0, 0, 0, 0, 0], [0, 0, 0, 0, 0, 0, 0, 0, 0, 0, 0, 0, 0, 0, 0, 0, 0, 0, 0, 0, 0, 0, 0, 0], [0, 0, 0, 0, 0, 0, 0, 0, 0, 0, 0, 0, 0, 0, 0, 0, 0, 0, 0, 0, 0, 0, 0, 0]]\n"
     ]
    }
   ],
   "source": [
    "'''Read adjacency matrix from the text file'''\n",
    "def read_adjacency_matrix(file_path):\n",
    "    # Read the text file\n",
    "    with open(file_path, 'r') as file:\n",
    "        lines = file.readlines()\n",
    "\n",
    "    # Process each line\n",
    "    adjacency_matrix = []\n",
    "    for line in lines:\n",
    "        # Split the line by spaces, remove whitespace characters, convert to integers\n",
    "        nums = [int(num) for num in line.strip().split()]\n",
    "        # Append the list of integers to the result\n",
    "        adjacency_matrix.append(nums)\n",
    "    return adjacency_matrix\n",
    "\n",
    "        \n",
    "adjacency_matrix = read_adjacency_matrix(\"adjacency_matrix.txt\")\n",
    "print(adjacency_matrix)"
   ]
  },
  {
   "cell_type": "code",
   "execution_count": 5,
   "id": "75a47556",
   "metadata": {
    "hidden": true,
    "scrolled": true
   },
   "outputs": [
    {
     "data": {
      "text/plain": [
       "'Adjacency Matrix (undirected) edge countings for each node'"
      ]
     },
     "execution_count": 5,
     "metadata": {},
     "output_type": "execute_result"
    }
   ],
   "source": [
    "'''Adjacency Matrix (undirected) edge countings for each node'''\n",
    "# vertical_list = [] #target based\n",
    "# horizontal_list = [] #source based\n",
    "# for index, x in enumerate(adjacency_matrix):\n",
    "#     vertical_count = 0\n",
    "#     for y in adj_matrix:\n",
    "#         vertical_count += y[index]\n",
    "#     vertical_list.append(vertical_count)\n",
    "#     horizontal_list.append(x.count(1))\n",
    "    \n",
    "# print(vertical_list)\n",
    "# print(horizontal_list)\n",
    "# total_edge_countings = [vertical_list[i]+horizontal_list[i] for i in range(len(vertical_list))]\n",
    "# print(total_edge_countings)"
   ]
  },
  {
   "cell_type": "markdown",
   "id": "d06978d6-62d2-45c4-8680-a6dbc57a215a",
   "metadata": {},
   "source": [
    "## Step 1: Basic MatplotLib Graph Drawing"
   ]
  },
  {
   "cell_type": "markdown",
   "id": "d2554098",
   "metadata": {},
   "source": [
    "The perfect structure (drawing conventions):\n",
    "- Edges vertical/horizontal\n",
    "- Symmetry\n",
    "- Minimal graph size\n",
    "- Maximal simple open curves\n",
    "- Stress of layout (backpath not too long/too short)\n",
    "\n",
    "The tree structure:\n",
    "- Equal Distances between vertices\n",
    "- Layered\n",
    "\n",
    "goals (quality metrics):\n",
    "- Minimum number of slopes\n",
    "- Minimum number of corners bends\n",
    "- Minimum intersections"
   ]
  },
  {
   "cell_type": "code",
   "execution_count": 6,
   "id": "ca498001-ba22-40fb-a704-d00b2c11e695",
   "metadata": {
    "code_folding": [
     1,
     17,
     29
    ],
    "scrolled": false
   },
   "outputs": [],
   "source": [
    "# Function to arrange nodes in a square-like layout\n",
    "def arrange_in_square(nodes):\n",
    "    num_nodes = len(nodes)\n",
    "    side_length = int(math.ceil(math.sqrt(num_nodes)))\n",
    "    spacing = 50\n",
    "    start_x, start_y = -((side_length - 1) * spacing) / 2, ((side_length - 1) * spacing) / 2\n",
    "    node_positions = {}\n",
    "    current_x, current_y = start_x, start_y\n",
    "    for i, node in enumerate(nodes):\n",
    "        node_positions[node] = (current_x, current_y)\n",
    "        current_x += spacing\n",
    "\n",
    "        if (i + 1) % side_length == 0:\n",
    "            current_x = start_x\n",
    "            current_y -= spacing  # Move to the next row\n",
    "    return node_positions\n",
    "\n",
    "def arrange_in_radial(nodes):\n",
    "    num_nodes = len(nodes)\n",
    "    radius = 200\n",
    "    angle_step = 360 / num_nodes\n",
    "    node_positions = {}\n",
    "    for i, node in enumerate(nodes):\n",
    "        angle = math.radians(i * angle_step)\n",
    "        x = radius * math.cos(angle)\n",
    "        y = radius * math.sin(angle)\n",
    "        node_positions[node] = (x, y)\n",
    "    return node_positions\n",
    "\n",
    "def arrange_in_semi_square(nodes):\n",
    "    num_nodes = len(nodes)\n",
    "    side_length = int(math.ceil(math.sqrt(num_nodes)))  # Calculate the side length of the square\n",
    "    spacing = 60  # Spacing between nodes\n",
    "    start_x, start_y = -((side_length - 1) * spacing) / 2, ((side_length - 1) * spacing) / 2\n",
    "    node_positions = {}\n",
    "    current_x, current_y = start_x, start_y\n",
    "    for i, node in enumerate(nodes):\n",
    "        node_positions[node] = (current_x, current_y + random.randint(-15, 15))\n",
    "        current_x += spacing\n",
    "\n",
    "        if (i + 1) % side_length == 0:\n",
    "            current_x = start_x\n",
    "            current_y -= spacing  # Move to the next row\n",
    "\n",
    "    return node_positions"
   ]
  },
  {
   "cell_type": "code",
   "execution_count": 268,
   "id": "881d4e24",
   "metadata": {
    "code_folding": []
   },
   "outputs": [],
   "source": [
    "def draw_node_link_diagram(nodes, edges, node_positions, node_colors, node_size=300): \n",
    "    fig, ax = plt.subplots()\n",
    "               \n",
    "    # Draw nodes and labels\n",
    "    for node, pos in node_positions.items():\n",
    "        if 'd' in node: #if it is a dummy\n",
    "            ax.scatter(pos[0], pos[1], s=node_size/2, color=node_colors[node], edgecolors='black', zorder=5, marker=\"s\")  # Draw node\n",
    "        else:\n",
    "            ax.scatter(pos[0], pos[1], s=node_size, color=node_colors[node], edgecolors='black', zorder=5)  # Draw node\n",
    "        ax.text(pos[0], pos[1], node[0:4], ha='center', va='center', fontsize=8, zorder=10)  # Add label\n",
    "        \n",
    "    # Draw edges\n",
    "    for edge in edges:\n",
    "        source, target, _ = edge\n",
    "        start = node_positions[source]\n",
    "        end = node_positions[target]\n",
    "        if 'd' in source: #if it is a dummy\n",
    "            original_source = source\n",
    "            while 'd' in original_source:\n",
    "                original_source = [other_source for other_source, other_target, weight in edges if other_target == source][0]\n",
    "                source = original_source\n",
    "            ax.plot([start[0], end[0]], [start[1], end[1]], color=node_colors[original_source], zorder=0)  # Draw edge\n",
    "        else:\n",
    "            ax.plot([start[0], end[0]], [start[1], end[1]], color=node_colors[source], zorder=0)  # Draw edge\n",
    "        \n",
    "    plt.show()"
   ]
  },
  {
   "cell_type": "markdown",
   "id": "a4758caa-8843-4c97-bd41-c4ad56729c87",
   "metadata": {
    "heading_collapsed": true
   },
   "source": [
    "## Step 1: Discussion"
   ]
  },
  {
   "cell_type": "markdown",
   "id": "d20ada19-6667-43e0-a8b9-acac9d0186ec",
   "metadata": {
    "hidden": true
   },
   "source": [
    "The Graph drawing shows a complexity of Linear time, meaning O(log n), because it shows no nested loops nor have logarithm time complexity in each operation. Because of the use of the Turtle library, more Nodes can easily be added and because of the complex libary, there are a lot of extra handy functions to improve the layout of the graph. But because the turtle manually writes to the screen, meaning it is a color written paper meaning each node nor edges are not interactive at all. "
   ]
  },
  {
   "cell_type": "markdown",
   "id": "7ea39526-055c-48fd-9e48-ffb51e8ea570",
   "metadata": {
    "hidden": true
   },
   "source": [
    "As a bonus algorithm, both semi-squared and circle are implemented to show that the structure really matters how the layout is build. The semi-squared layout shows what happens when each node random moves from the vertical line and improves the layout, because you can now identify edges that are in the same vertical line. The circle layout"
   ]
  },
  {
   "cell_type": "markdown",
   "id": "a34e19ff-9b10-46ed-981e-a3a2ad083ec6",
   "metadata": {
    "hidden": true
   },
   "source": []
  },
  {
   "cell_type": "markdown",
   "id": "6e58b052",
   "metadata": {},
   "source": [
    "## Step 2: Tree based algorithm\n",
    "\n"
   ]
  },
  {
   "cell_type": "markdown",
   "id": "816d5302",
   "metadata": {},
   "source": [
    "### Tree structure"
   ]
  },
  {
   "cell_type": "code",
   "execution_count": 501,
   "id": "2e54f711",
   "metadata": {},
   "outputs": [],
   "source": [
    "# It is easier to use layered tree structure to visualize both DFS and BFS\n",
    "def arrange_in_tree(nodes, edges, root=None):\n",
    "    def create_initial_tree(nodes, edges, root, tree=0):\n",
    "        num_nodes = len(nodes)\n",
    "        node_positions = {}\n",
    "        if root == None:\n",
    "            root = nodes[0]\n",
    "\n",
    "        node_positions[root] = ((3*tree), 0)\n",
    "        layer_space = 1\n",
    "        node_space = 1\n",
    "        padding = 10\n",
    "\n",
    "        queue = [root]\n",
    "        past_nodes = []\n",
    "        '''Tree creation'''\n",
    "        while queue != []:\n",
    "            current_node = queue[0]\n",
    "            connected_edges = [t[:2] for t in edges if current_node in t[:2]] \n",
    "            children_nodes = [value for tuple in connected_edges for value in tuple if value != current_node and value not in past_nodes]\n",
    "            if children_nodes != []: \n",
    "                segment_length = node_space / len(children_nodes)\n",
    "                parent_coords = node_positions[current_node]\n",
    "                for i, children_node in enumerate(children_nodes):\n",
    "                    if children_node not in node_positions:\n",
    "                        new_x = -node_space/2+segment_length*(0.5+i) + (3 * tree)\n",
    "                        if any(children_node == connected_edge[1] for connected_edge in connected_edges):\n",
    "                            new_y = parent_coords[1]-layer_space\n",
    "                        else:\n",
    "                            new_y = parent_coords[1]+layer_space\n",
    "                        node_positions[children_node] = (new_x, new_y)\n",
    "                queue = children_nodes + queue\n",
    "            queue.remove(current_node)\n",
    "            past_nodes.append(current_node)\n",
    "        return queue, past_nodes, node_positions, root\n",
    "    \n",
    "    nodes_left = nodes.copy()\n",
    "    tree = 0\n",
    "    full_node_positions = {}\n",
    "    root_list = []\n",
    "    while nodes_left != []:\n",
    "#     for x in range(2):\n",
    "        queue, past_nodes, node_positions,root = create_initial_tree(nodes_left, edges, root, tree)\n",
    "        full_node_positions.update(node_positions)\n",
    "        nodes_left = [x for x in nodes_left if x not in past_nodes]\n",
    "        root_list.append(root)\n",
    "        root = None\n",
    "        tree = tree + 1\n",
    "\n",
    "        \n",
    "    '''Improve node positions in tree '''\n",
    "    #this part will calculate what the max and min x&y-coordinate for the graph to determine the most rightest & leftest etc. place\n",
    "#     layer_min_max = {} \n",
    "#     for node, node_pos in full_node_positions.items():\n",
    "#         layer = node_pos[1] #y-as\n",
    "#         x_coord = node_pos[0] #x-as\n",
    "#         if layer not in layer_min_max:\n",
    "#             layer_min_max[layer] = [x_coord, x_coord]\n",
    "#         else:\n",
    "#             if x_coord < layer_min_max[layer][0]:\n",
    "#                 layer_min_max[layer][0] = x_coord\n",
    "#             if x_coord > layer_min_max[layer][1]:\n",
    "#                 layer_min_max[layer][1] = x_coord\n",
    "\n",
    "#     # Move nodes which are already in the same layer and divide them equally through the layer\n",
    "#     for layer, (min_x, max_x) in layer_min_max.items():\n",
    "#         layer_nodes = [(node, pos) for node, pos in full_node_positions.items() if pos[1] == layer]\n",
    "# #         if len(layer_nodes) > 5:\n",
    "#         if len(layer_nodes) > 2: #TODO fix visual\n",
    "#             interval = (max_x - min_x) / (len(layer_nodes) - 1)\n",
    "#             for i, (node, pos) in enumerate(layer_nodes):\n",
    "#                 new_x = min_x + i * interval\n",
    "#                 full_node_positions[node] = (new_x, pos[1])\n",
    "# #             print(node_positions)\n",
    "#         elif layer_nodes[0][1][1] < 0: #check if not first layer and not a lot of nodes, connected them with their parents by giving the parent's node x-as\n",
    "#             for i, layer_node in enumerate(layer_nodes):\n",
    "#                 parent_node = [parent_node[0] for parent_node in edges if parent_node[1] == layer_node[0]]\n",
    "#                 if parent_node != []:\n",
    "#                     middle_parent_node_coords = mean([parent_node_coords[1][0] for parent_node_coords in previous_layer_nodes if parent_node_coords[0] in parent_node])\n",
    "#                     full_node_positions[layer_node[0]] = (middle_parent_node_coords, layer_node[1][1])\n",
    "#         layer_nodes = [(node, pos) for node, pos in full_node_positions.items() if pos[1] == layer]        \n",
    "#         previous_layer_nodes = layer_nodes.copy()\n",
    "    return full_node_positions"
   ]
  },
  {
   "cell_type": "code",
   "execution_count": null,
   "id": "df110590",
   "metadata": {
    "code_folding": [],
    "scrolled": true
   },
   "outputs": [],
   "source": []
  },
  {
   "cell_type": "code",
   "execution_count": null,
   "id": "7b733be9",
   "metadata": {},
   "outputs": [],
   "source": []
  },
  {
   "cell_type": "markdown",
   "id": "eb9c1642",
   "metadata": {
    "heading_collapsed": true
   },
   "source": [
    "### Search Algorithms"
   ]
  },
  {
   "cell_type": "code",
   "execution_count": 9,
   "id": "de5fa15c",
   "metadata": {
    "code_folding": [],
    "hidden": true
   },
   "outputs": [],
   "source": [
    "def search_through_tree(nodes, edges, node_positions, node_colors, search_root=None, node_size=200):\n",
    "    org_edges = edges.copy() #saves the original edges\n",
    "    print(\"DFS:\")\n",
    "    '''DFS'''\n",
    "    num_nodes = len(nodes)\n",
    "    if search_root == None:\n",
    "        search_root = nodes[0]\n",
    "    stack = [search_root]\n",
    "    visited = []\n",
    "    DFS_edges = []\n",
    "    while stack != []:\n",
    "        current_node = stack[0]\n",
    "        connected_edges = [t[:2] for t in edges if current_node in t[:2]] \n",
    "        connected_edges = sorted(connected_edges, key=lambda x: int(x[1]))\n",
    "        children_nodes = [value for tuple in connected_edges for value in tuple if value != current_node and value not in visited]        \n",
    "        if children_nodes != []:\n",
    "            for children_node in children_nodes:\n",
    "                if children_node in stack:\n",
    "                    stack.remove(children_node)\n",
    "                stack[stack.index(current_node):stack.index(current_node)] = [children_node]\n",
    "            for edge in edges:\n",
    "                if (edge[0] == current_node and edge[1] == children_nodes[0] \n",
    "                     and edge[1] not in [elem[1] for elem in DFS_edges]): #same source and if target is first edge\n",
    "                    DFS_edges.append(edge)\n",
    "                elif (edge[1] == current_node and edge[0] == children_nodes[0]\n",
    "                      and edge[0] not in [elem[0] for elem in DFS_edges]): #viceversa cuz undirected\n",
    "                    DFS_edges.append((edge[1], edge[0], edge[2]))\n",
    "        elif len(visited) != len(nodes):\n",
    "            stack.insert(0,[elem[0] for elem in DFS_edges if elem[1] == current_node][0])\n",
    "        if current_node not in visited:\n",
    "            visited.append(current_node)\n",
    "        stack.remove(current_node)\n",
    "        \n",
    "    print('Visited', visited)\n",
    "    DFS_node_positions = arrange_in_tree(nodes, DFS_edges, search_root)\n",
    "    draw_node_link_diagram(visited, DFS_edges, DFS_node_positions, node_colors, node_size)\n",
    "    \n",
    "    '''Restoring original values'''\n",
    "    print(\"BFS:\")\n",
    "    '''BFS'''\n",
    "    BFS_edges = []\n",
    "    num_nodes = len(nodes)\n",
    "    if search_root == None:\n",
    "        search_root = nodes[0]\n",
    "    queue = [search_root]\n",
    "    visited = []\n",
    "    while queue != []:\n",
    "        current_node = queue[0]\n",
    "        connected_edges = [t[:2] for t in edges if current_node in t[:2]] \n",
    "        connected_edges = sorted(connected_edges, key=lambda x: int(x[1]))\n",
    "        children_nodes = [value for tuple in connected_edges for value in tuple if value != current_node and value not in visited]\n",
    "        if children_nodes != []:\n",
    "            for children_node in children_nodes:\n",
    "                if children_node not in queue:\n",
    "                    queue.append(children_node)\n",
    "                for edge in edges:\n",
    "                    if (edge[0] == current_node and edge[1] == children_node\n",
    "                       and edge[1] not in [elem[1] for elem in BFS_edges]): #same source and if target is first edge\n",
    "                        BFS_edges.append(edge)\n",
    "                    elif (edge[1] == current_node and edge[0] == children_node\n",
    "                          and edge[0] not in [elem[0] for elem in BFS_edges]): #viceversa cuz undirected\n",
    "                        BFS_edges.append((edge[1], edge[0], edge[2]))\n",
    "        if current_node not in visited:\n",
    "            visited.append(current_node)\n",
    "        queue.remove(current_node)\n",
    "    BFS_node_positions = arrange_in_tree(nodes, BFS_edges, search_root)\n",
    "\n",
    "    print('Visited', visited)\n",
    "    draw_node_link_diagram(visited, BFS_edges, BFS_node_positions, node_colors, node_size)\n",
    "    \n",
    "    print('DFS removed edges: ', [x[:2] for x in edges if x not in DFS_edges])\n",
    "    print('BFS removed edges: ', [x[:2] for x in edges if x not in BFS_edges])"
   ]
  },
  {
   "cell_type": "code",
   "execution_count": 10,
   "id": "55369571",
   "metadata": {
    "hidden": true,
    "scrolled": true
   },
   "outputs": [
    {
     "ename": "NameError",
     "evalue": "name 'main' is not defined",
     "output_type": "error",
     "traceback": [
      "\u001b[1;31m---------------------------------------------------------------------------\u001b[0m",
      "\u001b[1;31mNameError\u001b[0m                                 Traceback (most recent call last)",
      "Cell \u001b[1;32mIn[10], line 1\u001b[0m\n\u001b[1;32m----> 1\u001b[0m \u001b[43mmain\u001b[49m(nodes, edges, \u001b[38;5;124m\"\u001b[39m\u001b[38;5;124mtree\u001b[39m\u001b[38;5;124m\"\u001b[39m, node_size\u001b[38;5;241m=\u001b[39m\u001b[38;5;241m200\u001b[39m, root\u001b[38;5;241m=\u001b[39m\u001b[38;5;124m'\u001b[39m\u001b[38;5;124m1\u001b[39m\u001b[38;5;124m'\u001b[39m, search_algorithm\u001b[38;5;241m=\u001b[39m\u001b[38;5;28;01mTrue\u001b[39;00m, search_root\u001b[38;5;241m=\u001b[39m\u001b[38;5;124m'\u001b[39m\u001b[38;5;124m1\u001b[39m\u001b[38;5;124m'\u001b[39m)\n",
      "\u001b[1;31mNameError\u001b[0m: name 'main' is not defined"
     ]
    }
   ],
   "source": [
    "main(nodes, edges, \"tree\", node_size=200, root='1', search_algorithm=True, search_root='1')"
   ]
  },
  {
   "cell_type": "markdown",
   "id": "495e0430",
   "metadata": {},
   "source": [
    "## Step 2 Discussion"
   ]
  },
  {
   "cell_type": "markdown",
   "id": "eefc71bf",
   "metadata": {},
   "source": [
    "Time complexity: O(n + m) time, where n is the number of nodes and m is the number of edges."
   ]
  },
  {
   "cell_type": "markdown",
   "id": "d89f9b6e",
   "metadata": {},
   "source": []
  },
  {
   "cell_type": "markdown",
   "id": "42321f35",
   "metadata": {
    "heading_collapsed": true
   },
   "source": [
    "## Step 3"
   ]
  },
  {
   "cell_type": "code",
   "execution_count": null,
   "id": "302ae183",
   "metadata": {
    "hidden": true
   },
   "outputs": [],
   "source": []
  },
  {
   "cell_type": "code",
   "execution_count": null,
   "id": "9584e006",
   "metadata": {
    "hidden": true
   },
   "outputs": [],
   "source": []
  },
  {
   "cell_type": "markdown",
   "id": "3b6c3b20",
   "metadata": {},
   "source": [
    "## Step 4"
   ]
  },
  {
   "cell_type": "markdown",
   "id": "164b0288",
   "metadata": {},
   "source": [
    "Theory:\n",
    "1. *Draw current graph\n",
    "\n",
    "2. *Choose the method to remove the edges which causes cycles (max Acyclic subgraph/Minimum feedback arc set/Minimum feedback set)\n",
    "2. Identify edges with Heurstic with guarantees (Eades at al. 93)!!\n",
    "2. Remove sink/true collider edges + their isolated nodes\n",
    "2. Remove source/true fork edges + their isolated nodes\n",
    "2. Remove outcome edges from nodes with more outcome edges then income (looped)\n",
    "2. Remaining edges should be reversed\n",
    "8. *Choose method to optimize (Height optimization!! or Spanning tree)\n",
    "9. ~\n",
    "10. *Minimize crossing method (One-sides (OSCM)-Barycenter or Median Heuristic!!)\n",
    "11. *Improve node positioning by straighten the edges but reminding the other vertexes\n",
    "12. *Remove dummy nodes & Smoothing edges, but not too much reminding agin the other vertexes\n"
   ]
  },
  {
   "cell_type": "code",
   "execution_count": 153,
   "id": "088ebcd4",
   "metadata": {},
   "outputs": [],
   "source": [
    "def close_to_other_node(node_positions, node_position): #Check if the current node isn't too close another\n",
    "    if test == test:\n",
    "        return True\n",
    "    return False"
   ]
  },
  {
   "cell_type": "code",
   "execution_count": null,
   "id": "02758dc9",
   "metadata": {},
   "outputs": [],
   "source": [
    "\n"
   ]
  },
  {
   "cell_type": "code",
   "execution_count": 519,
   "id": "ddeac50e",
   "metadata": {
    "code_folding": [
     1
    ]
   },
   "outputs": [],
   "source": [
    "def sugiyama_framework(nodes, edges, node_positions, node_colors, search_root=None, node_size=200):\n",
    "    def guarantee_heuristic(nodes, edges):\n",
    "        '''Find the edges to be reversed to avoid cyclic graph'''\n",
    "        print(\"Heuristic with guarantees\")\n",
    "        #Part 1: Sinks (only receiving edges) \n",
    "        original_nodes = set(nodes) #turn the nodes to set, to use the handy set functions\n",
    "        while True:\n",
    "            sinks_edges = {node: [(source, target, weight) for source, target, weight in edges if target == node] for node in set([edge[1] for edge in edges]) - set([edge[0] for edge in edges])}\n",
    "            removable_edges = [element for innerList in sinks_edges.values() for element in innerList]\n",
    "            edges = [edge for edge in edges if edge not in removable_edges]             # Remove edges corresponding to the sink nodes\n",
    "            current_nodes = set([node for edge in edges for node in edge[:2]]) #new nodes\n",
    "            if current_nodes == original_nodes: # if the current set of nodes is the same as the original set, exit loop\n",
    "                break\n",
    "            else: # otherwise, update the set of nodes for the next iteration\n",
    "                original_nodes = current_nodes\n",
    "                nodes = list(original_nodes) #turn it back to the original list type\n",
    "#         print(\"Removed sinks:\")\n",
    "#         draw_node_link_diagram(nodes, edges, node_positions, node_colors, node_size)       \n",
    "        \n",
    "        \n",
    "        #Part 2: Sources (only outcoming edges)\n",
    "        original_nodes = set(nodes) #turn the nodes to set, to use the handy set functions\n",
    "        while True:\n",
    "            sources_edges = {node: [(source, target, weight) for source, target, weight in edges if source == node] for node in set([edge[0] for edge in edges]) - set([edge[1] for edge in edges])}\n",
    "            removable_edges = [element for innerList in sources_edges.values() for element in innerList]\n",
    "            edges = [edge for edge in edges if edge not in removable_edges]\n",
    "            current_nodes = set([node for edge in edges for node in edge[:2]])\n",
    "            if current_nodes == original_nodes:\n",
    "                break\n",
    "            else:\n",
    "                original_nodes = current_nodes\n",
    "                nodes = list(original_nodes)\n",
    "#         print(\"Removed sources:\")\n",
    "#         draw_node_link_diagram(nodes, edges, node_positions, node_colors, node_size)\n",
    "\n",
    "        #Part 3: Inversing the edges\n",
    "        # Create a Counter to count the occurrences of each node in the edge structure (+1 if it a source -1 if it a target)\n",
    "        node_counter = Counter()\n",
    "        for source, target, weight in edges:\n",
    "            node_counter[source] += 1 # N ->\n",
    "            node_counter[target] -= 1 # N <-\n",
    "        nodes = sorted(node_counter, key=node_counter.get, reverse=True) #get counter in reversed aka descending order\n",
    "        cycle_edges = []\n",
    "        for node in nodes:\n",
    "            temp_edges = []\n",
    "            for edge in edges:\n",
    "                if edge[0] != node or edge in cycle_edges:\n",
    "                    temp_edges.append(edge)\n",
    "                if edge[1] == node:\n",
    "                    cycle_edges.append(edge)\n",
    "            edges = temp_edges\n",
    "            \n",
    "#         print(\"Found cycle edges\")\n",
    "#         draw_node_link_diagram(nodes, edges, node_positions, node_colors, node_size)\n",
    "        return edges\n",
    "            \n",
    "    def layer_assignment(nodes, edges, node_positions):\n",
    "        #Add dummies\n",
    "        layer_crossing_edges = [edge for edge in edges if abs(node_positions[edge[0]][1] - node_positions[edge[1]][1]) >= 2]\n",
    "        dummy_number = 0\n",
    "        while layer_crossing_edges != []:\n",
    "            for index, edge in enumerate(layer_crossing_edges):\n",
    "                dummy_number += 1\n",
    "                dummy_name = 'd'+str(dummy_number)\n",
    "                nodes.append(dummy_name) #add dummy to node list\n",
    "                node_colors[dummy_name] = \"#808080\" #add its color \n",
    "                node_positions[dummy_name] = (((node_positions[edge[0]][0] + node_positions[edge[1]][0])/2), round((node_positions[edge[0]][1] + node_positions[edge[1]][1])/2))\n",
    "                edges.append((edge[0], dummy_name, edge[2]))\n",
    "                edges.append((dummy_name, edge[1], edge[2]))\n",
    "                edges.remove(edge)\n",
    "            layer_crossing_edges = [edge for edge in edges if abs(node_positions[edge[0]][1] - node_positions[edge[1]][1]) >= 2]\n",
    "        return nodes, edges, node_positions\n",
    "    \n",
    "    def crossing_minimization(nodes, edges, node_positions, method=\"Barycenter\"):\n",
    "        # Step 1: Neighbours\n",
    "        neighbors = {node: [] for node in nodes}\n",
    "        for node in nodes:\n",
    "            for source, target, _ in edges:\n",
    "                if target == node:\n",
    "                    neighbors[node].append(source)\n",
    "\n",
    "        def implement_new_x (node, node_positions, barycenter_x, neighbors):\n",
    "            for pos_node, pos in node_positions.items():\n",
    "                #TODO this needs better solution\n",
    "                if abs(barycenter_x - pos[0]) < 0.2 and abs(node_positions[node][1] - pos[1]) == 0 and pos_node != node:\n",
    "#                     print('test', node, pos_node, pos)\n",
    "#                     barycenter_x = pos[0] + 0.1 # Move to the right by 0.2 if too close on x-axis\n",
    "#                     node_positions[pos_node] = (node_positions[pos_node][1] - 0.1, node_positions[pos_node][1])\n",
    "#                     print(neighbors[pos_node], neighbors[node] )\n",
    "#                     node_positions = {node: ((pos[0] - 0.1, pos[1]) \n",
    "#                                              if pos_node != node and neighbors[pos_node] == neighbors[other_neighbour_node] \n",
    "#                                              else (pos[0], pos[1])) \n",
    "#                                       for other_neighbour_node, other_neighbour_pos in node_positions.items()}\n",
    "#                     print(node, node_positions)\n",
    "                    continue\n",
    "            node_positions[node] = (barycenter_x, node_positions[node][1])\n",
    "            return node_positions\n",
    "        \n",
    "        # Step 2: bary center / median calculator            \n",
    "        def calculate_barycenter(node, neighbors, node_positions):\n",
    "#             print('positions ', node_positions)\n",
    "            neighbor_x_sum = sum(node_positions[neighbor][0] for neighbor in neighbors)\n",
    "            if neighbor_x_sum == 0:\n",
    "                barycenter_x = node_positions[node][0]\n",
    "            else:\n",
    "                barycenter_x = neighbor_x_sum / len(neighbors)\n",
    "#                 print(node, neighbors, barycenter_x)\n",
    "            node_positions = implement_new_x (node, node_positions, barycenter_x, neighbors)\n",
    "            return node_positions\n",
    "        \n",
    "        def calculate_median(node, neighbors, node_positions): #TODO also add node_positions here\n",
    "            neighbor_x_coords = [node_positions[neighbor][0] for neighbor in neighbors]\n",
    "            median_x = sorted(neighbor_x_coords)[len(neighbors) // 2]\n",
    "            return median_x\n",
    "        \n",
    "        sorted_nodes = sorted(nodes, reverse=True, key=lambda node: node_positions[node][1]) \n",
    "        print(sorted_nodes)\n",
    "        if method == \"Barycenter\":\n",
    "            for node in sorted_nodes:\n",
    "                node_positions = calculate_barycenter(node, neighbors[node], node_positions)\n",
    "        else: \n",
    "            for node in sorted_nodes:\n",
    "                node_positions = calculate_median(node, neighbors[node], node_positions)\n",
    "#             barycenters = {node: calculate_median(node, neighbors[node], node_positions) for node in sorted_nodes}\n",
    "            \n",
    "#         # Step 3: Sort the nodes based on their barycenter values\n",
    "#         sorted_nodes = sorted(nodes, key=lambda node: barycenters[node])\n",
    "\n",
    "#         # Step 4: Assign layers to each node based on their sorted order\n",
    "#         layers = {node: i for i, node in enumerate(sorted_nodes)}\n",
    "        \n",
    "        # Step 5: Update the node positions with the new positions based on barycenters (TODO MAYBE DO IT DURING THE BARYCENTER)\n",
    "#         updated_node_positions = {}\n",
    "#         for node in sorted_nodes:\n",
    "#             new_x = barycenters[node]\n",
    "#             for pos_node, pos in updated_node_positions.items():\n",
    "#                 #TODO this needs better solution\n",
    "#                 if abs(new_x - pos[0]) < 0.2 and abs(node_positions[node][1] - pos[1]) < 0.2:\n",
    "#                     new_x = pos[0] + 0.2  # Move to the right by 0.2 if too close on x-axis\n",
    "#             updated_node_positions[node] = (new_x, node_positions[node][1])\n",
    "        return nodes, edges, node_positions\n",
    "        \n",
    "        \n",
    "    cyclic_edges = guarantee_heuristic(nodes, edges)\n",
    "    print(cyclic_edges)\n",
    "    #reverse the cyclic_edges using guarantee_heuristic\n",
    "    edges = [(edge[1], edge[0], edge[2]) if edge in cyclic_edges else edge for edge in edges]\n",
    "    node_positions = arrange_in_tree(nodes, edges, search_root)\n",
    "    \n",
    "    print(\"Layer Assignment\")\n",
    "    #Improve arrow layers by assigning dummies\n",
    "    nodes, edges, node_positions = layer_assignment(nodes, edges, node_positions)\n",
    "    draw_node_link_diagram(nodes, edges, node_positions, node_colors, node_size)\n",
    "    \n",
    "    print(\"Crossing minimization\")\n",
    "    #Barycenter Heuristic:\n",
    "    total_length = sum(math.sqrt((node_positions[edge[1]][0] - node_positions[edge[0]][0])**2 + (node_positions[edge[1]][1] - node_positions[edge[0]][1])**2) for edge in edges)\n",
    "    org_total_length = total_length\n",
    "    org_nodes, org_edges, org_node_positions = nodes, edges, node_positions\n",
    "    previous_total_length = 9999\n",
    "    counter = 0\n",
    "    print(\"Edge length before minimization: \", total_length)\n",
    "#     while total_length - previous_total_length <= 0.001:\n",
    "    for x in range(5): #debug\n",
    "        nodes, edges, node_positions = crossing_minimization(nodes, edges, node_positions, method='Barycenter')\n",
    "        previous_total_length = total_length\n",
    "        total_length = sum(math.sqrt((node_positions[edge[1]][0] - node_positions[edge[0]][0])**2 + (node_positions[edge[1]][1] - node_positions[edge[0]][1])**2) for edge in edges)\n",
    "        counter += 1\n",
    "    print(\"Edge length after minimization: \", total_length, \". After \", counter, \" iterations\")\n",
    "    draw_node_link_diagram(nodes, edges, node_positions, node_colors, node_size)\n",
    "\n",
    "    #Median Heuristic:\n",
    "    \n",
    "#     total_length = org_total_length\n",
    "#     nodes, edges, node_positions = org_nodes, org_edges, org_node_positions \n",
    "#     previous_total_length = 9999\n",
    "#     counter = 0\n",
    "#     print(\"Edge length before minimization: \", total_length)\n",
    "#     while total_length - previous_total_length <= 0.07:\n",
    "#         nodes, edges, node_positions = crossing_minimization(nodes, edges, node_positions, method='Median')\n",
    "#         previous_total_length = total_length\n",
    "#         total_length = sum(math.sqrt((node_positions[edge[1]][0] - node_positions[edge[0]][0])**2 + (node_positions[edge[1]][1] - node_positions[edge[0]][1])**2) for edge in edges)\n",
    "#         counter += 1\n",
    "#     print(\"Edge length after minimization: \", total_length, \". After \", counter, \" iterations\")\n",
    "#     draw_node_link_diagram(nodes, edges, node_positions, node_colors, node_size)\n",
    "    \n",
    "    \n",
    "    \n",
    "    return None"
   ]
  },
  {
   "cell_type": "code",
   "execution_count": null,
   "id": "8be0f45f",
   "metadata": {},
   "outputs": [],
   "source": []
  },
  {
   "cell_type": "code",
   "execution_count": 520,
   "id": "09bd54e4",
   "metadata": {
    "code_folding": []
   },
   "outputs": [],
   "source": [
    "# Main function to draw the node-link diagram using Matplotlib\n",
    "def main(nodes, edges, structure='square', node_size=300, root=None, search_algorithm=False, search_root=None, directed_tree=False): \n",
    "    # Arrange nodes in a structure\n",
    "    if structure =='square':\n",
    "        node_positions = arrange_in_square(nodes)\n",
    "    elif structure == 'radial':\n",
    "        node_positions = arrange_in_radial(nodes)\n",
    "    elif structure == 'semi_square':\n",
    "        node_positions = arrange_in_semi_square(nodes)\n",
    "    elif structure == 'tree':\n",
    "        node_positions = arrange_in_tree(nodes, edges, root)\n",
    "    else:\n",
    "        print('Structure typed incorrectly (square, radial, semi_square or tree) OR chosen structure not undirected')\n",
    "    #add random color to each node (as node:colorvalue)\n",
    "    node_colors = {}\n",
    "    for node in nodes:\n",
    "        node_colors[node] = \"#\" + ''.join(random.choices('0123456789ABCDEF', k=6)) #create random 6 hex code for color (which networkx uses)\n",
    "    print(\"(Original) graph:\")\n",
    "    draw_node_link_diagram(nodes, edges, node_positions, node_colors, node_size)\n",
    "    if search_algorithm and structure == 'tree':\n",
    "        search_through_tree(nodes, edges, node_positions, node_colors, search_root, node_size)\n",
    "    elif directed_tree and structure == 'tree':\n",
    "        sugiyama_framework(nodes, edges, node_positions, node_colors, search_root, node_size)\n",
    "        \n"
   ]
  },
  {
   "cell_type": "code",
   "execution_count": 521,
   "id": "1dfb6e2d",
   "metadata": {
    "scrolled": false
   },
   "outputs": [
    {
     "name": "stdout",
     "output_type": "stream",
     "text": [
      "(Original) graph:\n"
     ]
    },
    {
     "data": {
      "image/png": "[encoded data removed]",
      "text/plain": [
       "<Figure size 640x480 with 1 Axes>"
      ]
     },
     "metadata": {},
     "output_type": "display_data"
    },
    {
     "name": "stdout",
     "output_type": "stream",
     "text": [
      "Heuristic with guarantees\n",
      "[('3', '15', {}), ('2', '17', {}), ('20', '6', {})]\n",
      "Layer Assignment\n"
     ]
    },
    {
     "data": {
      "image/png": "[encoded data removed]",
      "text/plain": [
       "<Figure size 640x480 with 1 Axes>"
      ]
     },
     "metadata": {},
     "output_type": "display_data"
    },
    {
     "name": "stdout",
     "output_type": "stream",
     "text": [
      "Crossing minimization\n",
      "Edge length before minimization:  30.852386892964596\n",
      "['5', '6', '13', '14', '15', '18', '17', '20', '22', '23', '24', '3', '7', '16', '2', '12', '21', 'd1', 'd4', '11', '8', '10', '4', '19', 'd2', '9', 'd3', '1']\n",
      "['5', '6', '13', '14', '15', '18', '17', '20', '22', '23', '24', '3', '7', '16', '2', '12', '21', 'd1', 'd4', '11', '8', '10', '4', '19', 'd2', '9', 'd3', '1']\n",
      "['5', '6', '13', '14', '15', '18', '17', '20', '22', '23', '24', '3', '7', '16', '2', '12', '21', 'd1', 'd4', '11', '8', '10', '4', '19', 'd2', '9', 'd3', '1']\n",
      "['5', '6', '13', '14', '15', '18', '17', '20', '22', '23', '24', '3', '7', '16', '2', '12', '21', 'd1', 'd4', '11', '8', '10', '4', '19', 'd2', '9', 'd3', '1']\n",
      "['5', '6', '13', '14', '15', '18', '17', '20', '22', '23', '24', '3', '7', '16', '2', '12', '21', 'd1', 'd4', '11', '8', '10', '4', '19', 'd2', '9', 'd3', '1']\n",
      "Edge length after minimization:  29.29283166676649 . After  5  iterations\n"
     ]
    },
    {
     "data": {
      "image/png": "[encoded data removed]",
      "text/plain": [
       "<Figure size 640x480 with 1 Axes>"
      ]
     },
     "metadata": {},
     "output_type": "display_data"
    }
   ],
   "source": [
    "file_path = \"D:/OneDrive - Universiteit Utrecht/Universiteit/3DataVisualisation/DataSet/noname.dot\"\n",
    "#LesMiserables, LeagueNetwork, polblogs, JazzNetwork, noname\n",
    "nodes, edges = parse_dot_file(file_path)\n",
    "main(nodes, edges, 'tree', directed_tree=True)"
   ]
  },
  {
   "cell_type": "code",
   "execution_count": null,
   "id": "936936d2",
   "metadata": {},
   "outputs": [],
   "source": []
  },
  {
   "cell_type": "code",
   "execution_count": null,
   "id": "fe29e5a0",
   "metadata": {},
   "outputs": [],
   "source": []
  }
 ],
 "metadata": {
  "kernelspec": {
   "display_name": "Python 3 (ipykernel)",
   "language": "python",
   "name": "python3"
  },
  "language_info": {
   "codemirror_mode": {
    "name": "ipython",
    "version": 3
   },
   "file_extension": ".py",
   "mimetype": "text/x-python",
   "name": "python",
   "nbconvert_exporter": "python",
   "pygments_lexer": "ipython3",
   "version": "3.11.7"
  },
  "toc": {
   "base_numbering": 1,
   "nav_menu": {},
   "number_sections": true,
   "sideBar": true,
   "skip_h1_title": false,
   "title_cell": "Table of Contents",
   "title_sidebar": "Contents",
   "toc_cell": false,
   "toc_position": {},
   "toc_section_display": true,
   "toc_window_display": false
  }
 },
 "nbformat": 4,
 "nbformat_minor": 5
}
