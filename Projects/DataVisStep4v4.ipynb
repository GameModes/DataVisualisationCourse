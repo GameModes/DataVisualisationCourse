{
 "cells": [
  {
   "cell_type": "code",
   "execution_count": 366,
   "id": "53817296",
   "metadata": {},
   "outputs": [],
   "source": [
    "import pydot\n",
    "import random\n",
    "import math\n",
    "import matplotlib.pyplot as plt\n",
    "import networkx as nx\n",
    "import math\n",
    "from statistics import mean \n",
    "from collections import Counter\n",
    "import numpy as np\n",
    "from numpy import linalg as LA\n",
    "import copy"
   ]
  },
  {
   "cell_type": "markdown",
   "id": "60941f98",
   "metadata": {
    "heading_collapsed": true
   },
   "source": [
    "## Data to nodes and edges"
   ]
  },
  {
   "cell_type": "code",
   "execution_count": 28,
   "id": "10e3712a",
   "metadata": {
    "hidden": true
   },
   "outputs": [],
   "source": [
    "def parse_dot_file(file_path):\n",
    "    '''Turn dot file to nodes and edges'''\n",
    "    graph = pydot.graph_from_dot_file(file_path)[0]  # Get the first graph from the list\n",
    "    nodes = []\n",
    "    edges = []\n",
    "    for node in graph.get_nodes(): #extracts nodes\n",
    "        nodes.append(node.get_name())\n",
    "    for edge in graph.get_edges(): #extracts edges\n",
    "        source = edge.get_source()\n",
    "        target = edge.get_destination()\n",
    "        attributes = edge.get_attributes()\n",
    "        edges.append((source, target, attributes))\n",
    "        \n",
    "    num_nodes = len(nodes)\n",
    "    '''Turn the nodes and edges to adjencecy matrix'''\n",
    "    adj_matrix = [[0] * num_nodes for _ in range(num_nodes)]\n",
    "    for i, edge in enumerate(edges):\n",
    "        source = edge[0]\n",
    "        target = edge[1]\n",
    "        weight = edge[2]\n",
    "        try:\n",
    "            adj_matrix[nodes.index(source)][nodes.index(target)] = weight['weight']\n",
    "        except KeyError:\n",
    "            adj_matrix[nodes.index(source)][nodes.index(target)] = 1\n",
    "    return nodes, edges, adj_matrix\n",
    "\n",
    "file_path = \"D:/OneDrive - Universiteit Utrecht/Universiteit/3DataVisualisation/DataSet/LesMiserables.dot\"\n",
    "#LesMiserables, LeagueNetwork, polblogs, JazzNetwork, noname\n",
    "nodes, edges, adj_matrix = parse_dot_file(file_path)"
   ]
  },
  {
   "cell_type": "markdown",
   "id": "406148b3",
   "metadata": {},
   "source": [
    "## Step 1: Basic MatplotLib Graph Drawing"
   ]
  },
  {
   "cell_type": "code",
   "execution_count": 9,
   "id": "bf4a7310",
   "metadata": {
    "code_folding": [
     1,
     17,
     29
    ]
   },
   "outputs": [],
   "source": [
    "# Function to arrange nodes in a square-like layout\n",
    "def arrange_in_square(nodes):\n",
    "    num_nodes = len(nodes)\n",
    "    side_length = int(math.ceil(math.sqrt(num_nodes)))\n",
    "    spacing = 50\n",
    "    start_x, start_y = -((side_length - 1) * spacing) / 2, ((side_length - 1) * spacing) / 2\n",
    "    node_positions = {}\n",
    "    current_x, current_y = start_x, start_y\n",
    "    for i, node in enumerate(nodes):\n",
    "        node_positions[node] = (current_x, current_y)\n",
    "        current_x += spacing\n",
    "\n",
    "        if (i + 1) % side_length == 0:\n",
    "            current_x = start_x\n",
    "            current_y -= spacing  # Move to the next row\n",
    "    return node_positions\n",
    "\n",
    "def arrange_in_radial(nodes):\n",
    "    num_nodes = len(nodes)\n",
    "    radius = 200\n",
    "    angle_step = 360 / num_nodes\n",
    "    node_positions = {}\n",
    "    for i, node in enumerate(nodes):\n",
    "        angle = math.radians(i * angle_step)\n",
    "        x = radius * math.cos(angle)\n",
    "        y = radius * math.sin(angle)\n",
    "        node_positions[node] = (x, y)\n",
    "    return node_positions\n",
    "\n",
    "def arrange_in_semi_square(nodes):\n",
    "    num_nodes = len(nodes)\n",
    "    side_length = int(math.ceil(math.sqrt(num_nodes)))  # Calculate the side length of the square\n",
    "    spacing = 60  # Spacing between nodes\n",
    "    start_x, start_y = -((side_length - 1) * spacing) / 2, ((side_length - 1) * spacing) / 2\n",
    "    node_positions = {}\n",
    "    current_x, current_y = start_x, start_y\n",
    "    for i, node in enumerate(nodes):\n",
    "        node_positions[node] = (current_x, current_y + random.randint(-15, 15))\n",
    "        current_x += spacing\n",
    "\n",
    "        if (i + 1) % side_length == 0:\n",
    "            current_x = start_x\n",
    "            current_y -= spacing  # Move to the next row\n",
    "\n",
    "    return node_positions"
   ]
  },
  {
   "cell_type": "code",
   "execution_count": 265,
   "id": "7eed74f4",
   "metadata": {
    "code_folding": [
     0
    ]
   },
   "outputs": [],
   "source": [
    "def draw_node_link_diagram(nodes, edges, node_positions, node_colors, node_size=300, directed=False): \n",
    "    fig, ax = plt.subplots()\n",
    "               \n",
    "    # Draw nodes and labels\n",
    "    for node, pos in node_positions.items():\n",
    "        if 'd' in node: #if it is a dummy\n",
    "            ax.scatter(pos[0], pos[1], s=node_size/2, color=node_colors[node], edgecolors='black', zorder=5, marker=\"s\")  # Draw node\n",
    "        elif not '|' in node:\n",
    "            ax.scatter(pos[0], pos[1], s=node_size, color=node_colors[node], edgecolors='black', zorder=5)  # Draw node\n",
    "        ax.text(pos[0], pos[1], node[0:4], ha='center', va='center', fontsize=8, zorder=10)  # Add label\n",
    "        \n",
    "    # Draw edges\n",
    "    for edge in edges:\n",
    "        source, target, _ = edge\n",
    "        start = node_positions[source]\n",
    "        end = node_positions[target]\n",
    "        if 'd' in source: #if it is a dummy\n",
    "            original_source = source\n",
    "            while 'd' in original_source:\n",
    "                original_source = [other_source for other_source, other_target, weight in edges if other_target == source][0]\n",
    "                source = original_source\n",
    "            ax.plot([start[0], end[0]], [start[1], end[1]], color=node_colors[original_source], zorder=0)  # Draw edge\n",
    "#         elif directed: #TODO YVETTE\n",
    "#             ax.arrow(start[0], start[1], end[0]-start[0], end[1]-start[1], length_includes_head=True, head_width = np.sum(np.abs(ax.get_xlim()))/40, color=node_colors[source], zorder=0) # Draw arrow\n",
    "        else:\n",
    "            ax.plot([start[0], end[0]], [start[1], end[1]], color=node_colors[source], zorder=0)  # Draw edge\n",
    "            \n",
    "#     ax.get_xaxis().set_visible(False)\n",
    "#     ax.get_yaxis().set_visible(False)    \n",
    "    plt.show()"
   ]
  },
  {
   "cell_type": "markdown",
   "id": "9e375c6a",
   "metadata": {},
   "source": [
    "## Step 2: Undirected Tree based algorithm + DFS&BFS"
   ]
  },
  {
   "cell_type": "markdown",
   "id": "3a4a18de",
   "metadata": {
    "heading_collapsed": true
   },
   "source": [
    "### Tree structure"
   ]
  },
  {
   "cell_type": "code",
   "execution_count": 21,
   "id": "4324ab3e",
   "metadata": {
    "code_folding": [],
    "hidden": true
   },
   "outputs": [],
   "source": [
    "def arrange_in_tree(nodes, edges, root=None):\n",
    "    num_nodes = len(nodes)\n",
    "    node_positions = {}\n",
    "    if root == None:\n",
    "        root = nodes[0]\n",
    "        \n",
    "    node_positions[root] = (0, 0) \n",
    "    layer_space = 1\n",
    "    node_space = 1\n",
    "    padding = 10\n",
    "\n",
    "    queue = [root]\n",
    "    past_nodes = []\n",
    "    '''Tree creation'''\n",
    "    while queue != []:\n",
    "        current_node = queue[0]\n",
    "        connected_edges = [t[:2] for t in edges if current_node in t[:2]] \n",
    "        children_nodes = [value for tuple in connected_edges for value in tuple if value != current_node and value not in past_nodes]\n",
    "        if children_nodes != []: \n",
    "            segment_length = node_space / len(children_nodes)\n",
    "            parent_coords = node_positions[current_node]\n",
    "            for i, children_node in enumerate(children_nodes):\n",
    "                if children_node not in node_positions:\n",
    "                    new_x = -node_space/2+segment_length*(0.5+i)\n",
    "                    new_y = parent_coords[1]-layer_space\n",
    "                    node_positions[children_node] = (new_x, new_y)\n",
    "            queue = children_nodes + queue\n",
    "        queue.remove(current_node)\n",
    "        past_nodes.append(current_node)\n",
    "        \n",
    "        \n",
    "    '''Improve node positions in tree '''\n",
    "    #this part will calculate what the max and min x&y-coordinate for the graph to determine the most rightest & leftest etc. place\n",
    "    layer_min_max = {} \n",
    "    for node, node_pos in node_positions.items():\n",
    "        layer = node_pos[1] #y-as\n",
    "        x_coord = node_pos[0] #x-as\n",
    "        if layer not in layer_min_max:\n",
    "            layer_min_max[layer] = [x_coord, x_coord]\n",
    "        else:\n",
    "            if x_coord < layer_min_max[layer][0]:\n",
    "                layer_min_max[layer][0] = x_coord\n",
    "            if x_coord > layer_min_max[layer][1]:\n",
    "                layer_min_max[layer][1] = x_coord\n",
    "\n",
    "    # Move nodes which are already in the same layer and divide them equally through the layer\n",
    "    for layer, (min_x, max_x) in layer_min_max.items():\n",
    "        layer_nodes = [(node, pos) for node, pos in node_positions.items() if pos[1] == layer]\n",
    "#         if len(layer_nodes) > 5:\n",
    "        if len(layer_nodes) > 2: #TODO fix visual\n",
    "            interval = (max_x - min_x) / (len(layer_nodes) - 1)\n",
    "            for i, (node, pos) in enumerate(layer_nodes):\n",
    "                new_x = min_x + i * interval\n",
    "                node_positions[node] = (new_x, pos[1])\n",
    "#             print(node_positions)\n",
    "        elif layer_nodes[0][1][1] < 0: #check if not first layer and not a lot of nodes, connected them with their parents by giving the parent's node x-as\n",
    "            for i, layer_node in enumerate(layer_nodes):\n",
    "                parent_node = [parent_node[0] for parent_node in edges if parent_node[1] == layer_node[0]]\n",
    "                middle_parent_node_coords = mean([parent_node_coords[1][0] for parent_node_coords in previous_layer_nodes if parent_node_coords[0] in parent_node])\n",
    "                node_positions[layer_node[0]] = (middle_parent_node_coords, layer_node[1][1])\n",
    "        layer_nodes = [(node, pos) for node, pos in node_positions.items() if pos[1] == layer]        \n",
    "        previous_layer_nodes = layer_nodes.copy()\n",
    "    return node_positions"
   ]
  },
  {
   "cell_type": "markdown",
   "id": "f9415c7e",
   "metadata": {
    "heading_collapsed": true
   },
   "source": [
    "### Search Algorithms"
   ]
  },
  {
   "cell_type": "code",
   "execution_count": 224,
   "id": "5ce2bc41",
   "metadata": {
    "code_folding": [
     0
    ],
    "hidden": true
   },
   "outputs": [],
   "source": [
    "def DFS(nodes, edges, search_root=None, node_size=200):\n",
    "    '''DFS'''\n",
    "    num_nodes = len(nodes)\n",
    "    if search_root == None:\n",
    "        search_root = nodes[0]\n",
    "    stack = [search_root]\n",
    "    visited = []\n",
    "    DFS_edges = []\n",
    "    while stack != []:\n",
    "        current_node = stack[0]\n",
    "        connected_edges = [t[:2] for t in edges if current_node in t[:2]] \n",
    "        connected_edges = sorted(connected_edges, key=lambda x: int(x[1]))\n",
    "        children_nodes = [value for tuple in connected_edges for value in tuple if value != current_node and value not in visited]        \n",
    "        if children_nodes != []:\n",
    "            for children_node in children_nodes:\n",
    "                if children_node in stack:\n",
    "                    stack.remove(children_node)\n",
    "                stack[stack.index(current_node):stack.index(current_node)] = [children_node]\n",
    "            for edge in edges:\n",
    "                if (edge[0] == current_node and edge[1] == children_nodes[0] \n",
    "                     and edge[1] not in [elem[1] for elem in DFS_edges]): #same source and if target is first edge\n",
    "                    DFS_edges.append(edge)\n",
    "                elif (edge[1] == current_node and edge[0] == children_nodes[0]\n",
    "                      and edge[0] not in [elem[0] for elem in DFS_edges]): #viceversa cuz undirected\n",
    "                    DFS_edges.append((edge[1], edge[0], edge[2]))\n",
    "        elif len(visited) != len(nodes):\n",
    "            stack.insert(0,[elem[0] for elem in DFS_edges if elem[1] == current_node][0])\n",
    "        if current_node not in visited:\n",
    "            visited.append(current_node)\n",
    "        stack.remove(current_node)\n",
    "    return DFS_edges, visited\n",
    "\n",
    "def BFS(nodes, edges, search_root=None, node_size=200):\n",
    "    '''BFS'''\n",
    "    BFS_edges = []\n",
    "    num_nodes = len(nodes)\n",
    "    if search_root == None:\n",
    "        search_root = nodes[0]\n",
    "    queue = [search_root]\n",
    "    layers = [[search_root]]\n",
    "    visited = []\n",
    "    while queue != []:\n",
    "        current_node = queue[0]\n",
    "        connected_edges = [t[:2] for t in edges if current_node in t[:2]] \n",
    "        connected_edges = sorted(connected_edges, key=lambda x: int(x[1]))\n",
    "        parent_nodes = [value for edge in connected_edges for value in edge if value != current_node and value not in visited and current_node != edge[0]]\n",
    "        children_nodes = [value for edge in connected_edges for value in edge if value != current_node and value not in visited and current_node != edge[1]]\n",
    "        connected_nodes = parent_nodes + children_nodes\n",
    "        print(\"layers\", layers, \"parent\", parent_nodes, \"child\", children_nodes, \"conn\", connected_nodes)\n",
    "        if connected_nodes != []:\n",
    "            for connected_node in connected_nodes:\n",
    "                if connected_node not in queue:\n",
    "                    queue.append(connected_node)\n",
    "                for edge in edges:\n",
    "                    if (edge[0] == current_node and edge[1] == connected_node\n",
    "                       and edge[1] not in [elem[1] for elem in BFS_edges]): #same source and if target is first edge\n",
    "                        BFS_edges.append(edge)\n",
    "                    elif (edge[1] == current_node and edge[0] == connected_node\n",
    "                          and edge[0] not in [elem[0] for elem in BFS_edges]): #viceversa cuz undirected\n",
    "                        BFS_edges.append((edge[1], edge[0], edge[2]))\n",
    "        if current_node not in visited:\n",
    "            visited.append(current_node)\n",
    "            for i, layer in enumerate(layers):\n",
    "                if current_node in layer:\n",
    "                    for connected_node in connected_nodes:\n",
    "                        if connected_node in parent_nodes:\n",
    "                            layers[i-1].append(connected_node) #parent\n",
    "                        else:\n",
    "                            try:\n",
    "                                layers[i+1].append(connected_node) #child\n",
    "                            except IndexError:\n",
    "                                layers.append([connected_node])\n",
    "        queue.remove(current_node)\n",
    "        if queue == [] and len(visited) < len(nodes): #if multiple trees\n",
    "            not_visited = [x for x in nodes if x not in visited]\n",
    "            layers.append(['|' , not_visited[0]])\n",
    "            queue = [not_visited[0]] \n",
    "    return BFS_edges, visited, layers\n",
    "\n",
    "\n",
    "    \n",
    "def search_through_tree(nodes, edges, node_positions, node_colors, search_root=None, node_size=200):\n",
    "#     print(\"DFS\")\n",
    "#     DFS_edges, DFS_visited = DFS(nodes, edges, search_root) \n",
    "#     print('DFS Visit order', DFS_visited)\n",
    "#     DFS_node_positions = arrange_in_tree(nodes, DFS_edges, search_root)\n",
    "#     draw_node_link_diagram(DFS_visited, DFS_edges, DFS_node_positions, node_colors, node_size)\n",
    "#     print('DFS removed edges: ', [x[:2] for x in edges if x not in DFS_edges])\n",
    "    \n",
    "    print(\"BFS\")\n",
    "    BFS_edges, BFS_visited, layers = BFS(nodes, edges, search_root) \n",
    "    print('BFS Visit order', BFS_visited)\n",
    "    BFS_node_positions = arrange_in_tree(nodes, BFS_edges, search_root)\n",
    "    draw_node_link_diagram(BFS_visited, BFS_edges, BFS_node_positions, node_colors, node_size)\n",
    "    print('BFS removed edges: ', [x[:2] for x in edges if x not in BFS_edges])\n"
   ]
  },
  {
   "cell_type": "code",
   "execution_count": null,
   "id": "250e0627",
   "metadata": {
    "hidden": true
   },
   "outputs": [],
   "source": []
  },
  {
   "cell_type": "markdown",
   "id": "70f28261",
   "metadata": {
    "heading_collapsed": true
   },
   "source": [
    "## Step 3: Force directed layout"
   ]
  },
  {
   "cell_type": "code",
   "execution_count": 33,
   "id": "a493be7e",
   "metadata": {
    "code_folding": [
     0
    ],
    "hidden": true
   },
   "outputs": [],
   "source": [
    "def arrange_in_force(nodes, edges):\n",
    "    # choice of forces/parameters\n",
    "    force_magnitude = 2\n",
    "    k = 4\n",
    "    l = 1\n",
    "    delta = 0.5\n",
    "    cspring = 2\n",
    "    crep = 1\n",
    "    \n",
    "    node_positions = arrange_in_semi_square(nodes)\n",
    "    num_nodes = len(nodes)\n",
    "    \n",
    "    t = 1\n",
    "    while t < k:\n",
    "        for node in nodes:\n",
    "            fspring = []\n",
    "            #fattr = 0\n",
    "            frep = []\n",
    "            current = 1\n",
    "            while current <= num_nodes:\n",
    "                if int(node) != current:\n",
    "                    p_u = np.array(node_positions[node])\n",
    "                    p_v = np.array(node_positions[f'{current}'])\n",
    "\n",
    "                    direction = p_v - p_u\n",
    "                    direction_unit = direction / np.linalg.norm(direction)\n",
    "                    force = force_magnitude * direction_unit\n",
    "                    p_u = p_u + force*delta\n",
    "\n",
    "                    if (node, f'{current}', {}) in edges:\n",
    "                        adjecent = True\n",
    "                    else:\n",
    "                        adjecent = False\n",
    "                        \n",
    "                    # Spring Embedder\n",
    "                    # > Fruchterman and Reingold\n",
    "                    if adjecent==True:\n",
    "                        fspring.append(cspring / LA.norm(direction)**2 * pointing(p_v,p_u))\n",
    "                        #fattr = (LA.norm(direction)**2 / l) * pointing(p_u,p_v)\n",
    "                    elif adjecent==False:\n",
    "                        frep.append(crep * math.log(LA.norm(direction)/l) * pointing(p_v,p_u))\n",
    "                    \n",
    "                    #frep = (l**2 / LA.norm(direction)) * pointing(p_u,p_v)\n",
    "                    #fspring.append(frep + fattr)\n",
    "                current += 1\n",
    "            Fv = sum(fspring) + sum(frep)\n",
    "            node_positions[node] = tuple(Fv)\n",
    "        t += 1\n",
    "    return node_positions\n",
    "\n",
    "def pointing(p1,p2):\n",
    "    return p2-p1 / LA.norm(p2-p1)"
   ]
  },
  {
   "cell_type": "code",
   "execution_count": 45,
   "id": "6ded8fb3",
   "metadata": {
    "code_folding": [
     0
    ],
    "hidden": true
   },
   "outputs": [],
   "source": [
    "def fruchterman_and_reingold(nodes,edges):\n",
    "    # l = C * sqrt(area/number of vertices) - l\n",
    "    l = 1\n",
    "    delta = 1\n",
    "    cspring = 2\n",
    "    crep = 1\n",
    "    # all node pairs\n",
    "    frep = (l**2 / LA.norm(p2-p1)) * pointing(p1,p2)\n",
    "    # adjecent nodes\n",
    "    fattr = (LA.norm(p2-p1)**2 / l) * pointing(p1,p2)\n",
    "    # resulting\n",
    "    fspring = frep + fattr\n",
    "    return fspring"
   ]
  },
  {
   "cell_type": "code",
   "execution_count": null,
   "id": "c87e6df4",
   "metadata": {
    "hidden": true
   },
   "outputs": [],
   "source": []
  },
  {
   "cell_type": "markdown",
   "id": "b5a1ff24",
   "metadata": {},
   "source": [
    "## Step 4: Layered Layout "
   ]
  },
  {
   "cell_type": "code",
   "execution_count": 386,
   "id": "59aacc36",
   "metadata": {},
   "outputs": [],
   "source": [
    "def get_parents(edges, node, parents=None, parent_number=None):\n",
    "    if parents is None:\n",
    "        parents = {}\n",
    "    if parent_number is None: #parent_number is the number of layer it is above the current node\n",
    "        parent_number = 0\n",
    "        \n",
    "    for edge in edges:\n",
    "        if edge[1] == node:\n",
    "            parent = edge[0]\n",
    "            if parent not in parents:\n",
    "                parent_number += 1\n",
    "                parents[parent] = parent_number\n",
    "                get_parents(edges, parent, parents, parent_number)\n",
    "    \n",
    "    return parents"
   ]
  },
  {
   "cell_type": "code",
   "execution_count": 389,
   "id": "7ba7bb3d",
   "metadata": {},
   "outputs": [],
   "source": [
    "def get_childs(edges, node, childs=None, child_number=None):\n",
    "    if childs is None:\n",
    "        childs = {}\n",
    "    if child_number is None:\n",
    "        child_number = 0\n",
    "        \n",
    "    for edge in edges:\n",
    "        if edge[0] == node:\n",
    "            child = edge[1]\n",
    "            if child not in childs:\n",
    "                child_number -= 1\n",
    "                childs[child] = child_number\n",
    "                get_childs(edges, node, childs, child_number)\n",
    "    \n",
    "    return childs"
   ]
  },
  {
   "cell_type": "code",
   "execution_count": 426,
   "id": "19e83b5d",
   "metadata": {
    "code_folding": [
     1,
     104,
     107,
     111
    ]
   },
   "outputs": [],
   "source": [
    "def sugiyama_framework(nodes, edges, node_colors, root=None, node_size=200):\n",
    "    def guarantee_heuristic(nodes, edges):\n",
    "        '''Find the edges to be reversed to avoid cyclic graph'''\n",
    "        print(\"Heuristic with guarantees\")\n",
    "        #Part 1: Sinks (only receiving edges) \n",
    "        original_nodes = set(nodes) #turn the nodes to set, to use the handy set functions\n",
    "        while True:\n",
    "            sinks_edges = {node: [(source, target, weight) for source, target, weight in edges if target == node] for node in set([edge[1] for edge in edges]) - set([edge[0] for edge in edges])}\n",
    "            removable_edges = [element for innerList in sinks_edges.values() for element in innerList]\n",
    "            edges = [edge for edge in edges if edge not in removable_edges]             # Remove edges corresponding to the sink nodes\n",
    "            current_nodes = set([node for edge in edges for node in edge[:2]]) #new nodes\n",
    "            if current_nodes == original_nodes: # if the current set of nodes is the same as the original set, exit loop\n",
    "                break\n",
    "            else: # otherwise, update the set of nodes for the next iteration\n",
    "                original_nodes = current_nodes\n",
    "                nodes = list(original_nodes) #turn it back to the original list type\n",
    "#         print(\"Removed sinks:\")\n",
    "#         draw_node_link_diagram(nodes, edges, node_positions, node_colors, node_size)       \n",
    "        \n",
    "        \n",
    "        #Part 2: Sources (only outcoming edges)\n",
    "        original_nodes = set(nodes) #turn the nodes to set, to use the handy set functions\n",
    "        while True:\n",
    "            sources_edges = {node: [(source, target, weight) for source, target, weight in edges if source == node] for node in set([edge[0] for edge in edges]) - set([edge[1] for edge in edges])}\n",
    "            removable_edges = [element for innerList in sources_edges.values() for element in innerList]\n",
    "            edges = [edge for edge in edges if edge not in removable_edges]\n",
    "            current_nodes = set([node for edge in edges for node in edge[:2]])\n",
    "            if current_nodes == original_nodes:\n",
    "                break\n",
    "            else:\n",
    "                original_nodes = current_nodes\n",
    "                nodes = list(original_nodes)\n",
    "#         print(\"Removed sources:\")\n",
    "#         draw_node_link_diagram(nodes, edges, node_positions, node_colors, node_size)\n",
    "\n",
    "        #Part 3: Inversing the edges\n",
    "        # Create a Counter to count the occurrences of each node in the edge structure (+1 if it a source -1 if it a target)\n",
    "        node_counter = Counter()\n",
    "        for source, target, weight in edges:\n",
    "            node_counter[source] += 1 # N ->\n",
    "            node_counter[target] -= 1 # N <-\n",
    "        nodes = sorted(node_counter, key=node_counter.get, reverse=True) #get counter in reversed aka descending order\n",
    "        cycle_edges = []\n",
    "        for node in nodes:\n",
    "            temp_edges = []\n",
    "            for edge in edges:\n",
    "                if edge[0] != node or edge in cycle_edges:\n",
    "                    temp_edges.append(edge)\n",
    "                if edge[1] == node:\n",
    "                    cycle_edges.append(edge)\n",
    "            edges = temp_edges\n",
    "            \n",
    "#         print(\"Found cycle edges\")\n",
    "#         draw_node_link_diagram(nodes, edges, node_positions, node_colors, node_size)\n",
    "        return edges\n",
    "            \n",
    "    def layer_assignment(nodes, edges, root=None):\n",
    "        #add to layers from root\n",
    "        if root == None:\n",
    "            root = nodes[0]\n",
    "        BFS_edges, BFS_visited, layers = BFS(nodes, edges, root) \n",
    "        print('BFS Visit order', BFS_visited)\n",
    "        print('BFS removed edges: ', [x[:2] for x in edges if x not in BFS_edges])\n",
    "        node_positions = {}\n",
    "        layer_counter = 0\n",
    "        node_space = 0\n",
    "        placed_nodes_in_layers = copy.deepcopy(layers)\n",
    "        for index, layer in enumerate(layers):\n",
    "            if \"|\" in layer:\n",
    "                layer_counter = 0\n",
    "            for node in layer: #loops through the layers\n",
    "                if node not in node_positions:  #if the first time encountering a node place it\n",
    "                    node_positions[node] = (node_space, layer_counter)\n",
    "                    node_space += 1                  \n",
    "                else: #if not, then also move every parent from that node to the current position of the node\n",
    "                    node_parents = get_parents(edges, node)\n",
    "                    for node_parent, parent_layer in node_parents.items():\n",
    "                        if node_parent in node_positions:\n",
    "                            node_positions[node_parent] = (node_positions[node_parent][0], node_positions[node][1] + parent_layer)\n",
    "                        else:\n",
    "                            node_positions[node_parent] = (node_space, node_positions[node][1] + parent_layer)\n",
    "            layer_counter -= 1\n",
    "        #Adjusting the nodes which have parents/childs that have only dummies in between them\n",
    "        for node, (x, y) in node_positions.items():\n",
    "            node_childs = [key for key, value in get_childs(edges, node).items() if value <= 2] \n",
    "            node_parents = [key for key, value in get_parents(edges, node).items() if value <= 2] \n",
    "            if list(node_childs) != []:\n",
    "                if y-1 != max(node_positions[node_child][1] for node_child in node_childs): \n",
    "                    #if the max y-as of a child isn't directly under the current node\n",
    "                    node_positions[node] = (x, y-1) #move it down\n",
    "            if list(node_parents) != []:\n",
    "                if y+1 != min(node_positions[node_parent][1] for node_parent in node_parents): \n",
    "                    #if the min y-as of a parent isn't directly above the current node\n",
    "                    node_positions[node] = (x, y+1) #move it up\n",
    "        \n",
    "        #Add dummies\n",
    "        layer_crossing_edges = [edge for edge in edges if abs(node_positions[edge[0]][1] - node_positions[edge[1]][1]) >= 2]\n",
    "        dummy_number = 0\n",
    "        while layer_crossing_edges != []:\n",
    "            for index, edge in enumerate(layer_crossing_edges):\n",
    "                dummy_number += 1\n",
    "                dummy_name = 'd'+str(dummy_number)\n",
    "                nodes.append(dummy_name) #add dummy to node list\n",
    "                node_colors[dummy_name] = \"#808080\" #add its color \n",
    "                node_positions[dummy_name] = (((node_positions[edge[0]][0] + node_positions[edge[1]][0])/2), round((node_positions[edge[0]][1] + node_positions[edge[1]][1])/2))\n",
    "                edges.append((edge[0], dummy_name, edge[2]))\n",
    "                edges.append((dummy_name, edge[1], edge[2]))\n",
    "                edges.remove(edge)\n",
    "            layer_crossing_edges = [edge for edge in edges if abs(node_positions[edge[0]][1] - node_positions[edge[1]][1]) >= 2]\n",
    "\n",
    "        return nodes, edges, node_positions\n",
    "    \n",
    "    def crossing_minimization(nodes, edges, node_positions, method=\"Barycenter\"):\n",
    "        layers = sorted(set(y for _, (_, y) in node_positions.items()), reverse=True)\n",
    "        \n",
    "        def implement_new_x (node, node_positions, barycenter_x, neighbors):\n",
    "            node_positions[node] = (barycenter_x, node_positions[node][1])\n",
    "            return node_positions\n",
    "        \n",
    "        def calculate_barycenter(node, parents, node_positions, neighbors):\n",
    "            parents_x_sum = sum(node_positions[parent][0] for parent in parents)\n",
    "            if parents_x_sum == 0:\n",
    "                barycenter_x = node_positions[node][0]\n",
    "            else:\n",
    "                barycenter_x = parents_x_sum / len(parents)\n",
    "#             print(node, neighbors, barycenter_x)\n",
    "            node_positions = implement_new_x (node, node_positions, barycenter_x, neighbors)\n",
    "            return node_positions\n",
    "        \n",
    "        #calculate first barycenter\n",
    "        for layer in layers[:-1]:\n",
    "            nodes_in_curr_layer = [node for node, (x, y) in node_positions.items() if y == layer]\n",
    "            nodes_in_next_layer = [node for node, (x, y) in node_positions.items() if y == layer-1]\n",
    "            has_parents = {node: [] for node in nodes_in_next_layer}\n",
    "            for node in nodes_in_next_layer:\n",
    "                for source, target, _ in edges:\n",
    "                    if target == node:\n",
    "                        has_parents[node].append(source)\n",
    "#                 print(layer-1, \"parents\", has_parents)    \n",
    "                node_positions = calculate_barycenter(node, has_parents[node], node_positions, nodes_in_next_layer)\n",
    "                \n",
    "            #recoordinate too close nodes\n",
    "#             print(layer)\n",
    "            node_groups = {}\n",
    "            for node, pos in node_positions.items():\n",
    "                x_coord, y_coord = pos\n",
    "                if (x_coord, y_coord) in node_groups:\n",
    "                    node_groups[(x_coord, y_coord)].append(node)\n",
    "                else:\n",
    "                    node_groups[(x_coord, y_coord)] = [node]\n",
    "            too_close_groups = [group for group in node_groups.values() if len(group) > 1 and max(pos[0] for node in group) - min(pos[0] for node in group) < 1.2]\n",
    "#             print(too_close_groups)\n",
    "            # Divide each too close group with a spacing of 1\n",
    "            for group in too_close_groups:\n",
    "                group_size = len(too_close_groups)\n",
    "                if group_size % 2 != 0: #if odd then middle node is middle\n",
    "                    step_start = -(group_size-1)/2\n",
    "                    for i, node in enumerate(group):\n",
    "                        node_positions[node] = (node_positions[node][0] + step_start+i,  node_positions[node][1])\n",
    "                else: #else 2 nodes are the middle\n",
    "                    step_start = -(group_size)/2+0.5\n",
    "                    for i, node in enumerate(group):\n",
    "                        node_positions[node] = (node_positions[node][0] + step_start+i,  node_positions[node][1])\n",
    "                \n",
    "        return nodes, edges, node_positions\n",
    "        \n",
    "        \n",
    "    cyclic_edges = guarantee_heuristic(nodes, edges)\n",
    "    #reverse the cyclic_edges using guarantee_heuristic\n",
    "    edges = [(edge[1], edge[0], edge[2]) if edge in cyclic_edges else edge for edge in edges]\n",
    "    \n",
    "    print(\"Layer Assignment\")\n",
    "    #Improve arrow layers by assigning dummies\n",
    "    nodes, edges, node_positions = layer_assignment(nodes, edges, root)\n",
    "    draw_node_link_diagram(nodes, edges, node_positions, node_colors, node_size)\n",
    "    \n",
    "    print(\"Crossing minimization\")\n",
    "    #Barycenter Heuristic:\n",
    "    nodes, edges, node_positions = crossing_minimization(nodes, edges, node_positions, method='Barycenter')\n",
    "    draw_node_link_diagram(nodes, edges, node_positions, node_colors, node_size)\n",
    "    \n",
    "    return node_positions"
   ]
  },
  {
   "cell_type": "markdown",
   "id": "21e0b73f",
   "metadata": {
    "heading_collapsed": true
   },
   "source": [
    "## Main"
   ]
  },
  {
   "cell_type": "code",
   "execution_count": 292,
   "id": "16174c02",
   "metadata": {
    "code_folding": [],
    "hidden": true
   },
   "outputs": [],
   "source": [
    "# Main function to draw the node-link diagram using Matplotlib\n",
    "def main(nodes, edges, structure='square', node_size=300, root=None, search_algorithm=False, search_root=None, directed=False): \n",
    "    #add random color to each node (as node:colorvalue)\n",
    "    node_colors = {}\n",
    "    for node in nodes:\n",
    "        node_colors[node] = \"#\" + ''.join(random.choices('0123456789ABCDEF', k=6)) #create random 6 hex code for color (which networkx uses)\n",
    "\n",
    "    # Arrange nodes in a structure\n",
    "    if structure =='square':\n",
    "        node_positions = arrange_in_square(nodes)\n",
    "    elif structure == 'radial':\n",
    "        node_positions = arrange_in_radial(nodes)\n",
    "    elif structure == 'semi_square':\n",
    "        node_positions = arrange_in_semi_square(nodes)\n",
    "    elif structure == 'tree':\n",
    "        if directed: \n",
    "            node_positions = sugiyama_framework(nodes, edges, node_colors, root, node_size)\n",
    "        else:\n",
    "            node_positions = arrange_in_tree(nodes, edges, root)\n",
    "    elif structure == 'force':\n",
    "        node_positions = arrange_in_force(nodes,edges)\n",
    "    else:\n",
    "        print('Structure typed incorrectly (square, radial, semi_square or tree) OR chosen structure not undirected')\n",
    "    \n",
    "    if search_algorithm and structure == 'tree':\n",
    "        search_through_tree(nodes, edges, node_positions, node_colors, search_root, node_size)\n",
    "    if not directed:\n",
    "        print(\"(Original) graph:\")\n",
    "        draw_node_link_diagram(nodes, edges, node_positions, node_colors, node_size, directed)     \n",
    "        \n"
   ]
  },
  {
   "cell_type": "markdown",
   "id": "7e6de49a",
   "metadata": {},
   "source": [
    "## Run Templates"
   ]
  },
  {
   "cell_type": "code",
   "execution_count": 104,
   "id": "07c128fe",
   "metadata": {
    "code_folding": [
     0
    ],
    "scrolled": false
   },
   "outputs": [],
   "source": [
    "# '''Step 2: Les Miserables Tree'''\n",
    "# file_path = \"D:/OneDrive - Universiteit Utrecht/Universiteit/3DataVisualisation/DataSet/LesMiserables.dot\"\n",
    "# nodes, edges, adj_matrix = parse_dot_file(file_path)\n",
    "# main(nodes, edges, \"tree\", node_size=200, root='1', search_algorithm=True, search_root='1')"
   ]
  },
  {
   "cell_type": "code",
   "execution_count": 185,
   "id": "558605b9",
   "metadata": {
    "code_folding": [
     0
    ]
   },
   "outputs": [],
   "source": [
    "# '''Step 3: Les Forced Directed Layout'''\n",
    "# file_path = \"D:/OneDrive - Universiteit Utrecht/Universiteit/3DataVisualisation/DataSet/noname.dot\"\n",
    "# nodes, edges, adj_matrix = parse_dot_file(file_path)\n",
    "# main(nodes, edges, \"force\", node_size=200, directed=True)"
   ]
  },
  {
   "cell_type": "code",
   "execution_count": 427,
   "id": "cc051f23",
   "metadata": {
    "scrolled": false
   },
   "outputs": [
    {
     "name": "stdout",
     "output_type": "stream",
     "text": [
      "Heuristic with guarantees\n",
      "Layer Assignment\n",
      "BFS Visit order ['5', '13', '3', '15', '18', '17', '22', '7', '2', '16', '24', '10', '6', '14', '20', '21', '19', '12', '11', '23', '8', '9', '1', '4']\n",
      "BFS removed edges:  [('15', '3'), ('7', '18'), ('11', '8'), ('9', '1'), ('16', '2'), ('4', '9'), ('18', '3'), ('17', '3'), ('19', '20'), ('21', '19'), ('22', '3'), ('1', '23'), ('23', '12'), ('24', '16')]\n"
     ]
    },
    {
     "data": {
      "image/png": "[encoded data removed]",
      "text/plain": [
       "<Figure size 640x480 with 1 Axes>"
      ]
     },
     "metadata": {},
     "output_type": "display_data"
    },
    {
     "name": "stdout",
     "output_type": "stream",
     "text": [
      "Crossing minimization\n"
     ]
    },
    {
     "data": {
      "image/png": "[encoded data removed]",
      "text/plain": [
       "<Figure size 640x480 with 1 Axes>"
      ]
     },
     "metadata": {},
     "output_type": "display_data"
    }
   ],
   "source": [
    "'''Step 4: Layered layout'''\n",
    "file_path = \"D:/OneDrive - Universiteit Utrecht/Universiteit/3DataVisualisation/DataSet/noname.dot\"\n",
    "nodes, edges, adj_matrix = parse_dot_file(file_path)\n",
    "main(nodes, edges, 'tree', directed=True)"
   ]
  },
  {
   "cell_type": "code",
   "execution_count": null,
   "id": "e0afe96e",
   "metadata": {},
   "outputs": [],
   "source": []
  },
  {
   "cell_type": "code",
   "execution_count": null,
   "id": "cf5565bd",
   "metadata": {},
   "outputs": [],
   "source": []
  }
 ],
 "metadata": {
  "kernelspec": {
   "display_name": "Python 3 (ipykernel)",
   "language": "python",
   "name": "python3"
  },
  "language_info": {
   "codemirror_mode": {
    "name": "ipython",
    "version": 3
   },
   "file_extension": ".py",
   "mimetype": "text/x-python",
   "name": "python",
   "nbconvert_exporter": "python",
   "pygments_lexer": "ipython3",
   "version": "3.11.7"
  },
  "toc": {
   "base_numbering": 1,
   "nav_menu": {},
   "number_sections": true,
   "sideBar": true,
   "skip_h1_title": false,
   "title_cell": "Table of Contents",
   "title_sidebar": "Contents",
   "toc_cell": false,
   "toc_position": {},
   "toc_section_display": true,
   "toc_window_display": false
  }
 },
 "nbformat": 4,
 "nbformat_minor": 5
}
